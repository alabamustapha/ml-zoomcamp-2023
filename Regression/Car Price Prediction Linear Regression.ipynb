{
 "cells": [
  {
   "cell_type": "markdown",
   "id": "b15fdd14",
   "metadata": {},
   "source": [
    "# Machine Learning With Regression"
   ]
  },
  {
   "cell_type": "code",
   "execution_count": 1313,
   "id": "22d902c0",
   "metadata": {},
   "outputs": [],
   "source": [
    "import pandas as pd\n",
    "import numpy as np\n",
    "import os\n",
    "import matplotlib.pyplot as plt\n",
    "import seaborn as sns\n",
    "%matplotlib inline"
   ]
  },
  {
   "cell_type": "markdown",
   "id": "2910516e",
   "metadata": {},
   "source": [
    "## Get data"
   ]
  },
  {
   "cell_type": "code",
   "execution_count": 1314,
   "id": "2aa3feb8",
   "metadata": {},
   "outputs": [],
   "source": [
    "if not os.path.isfile('car-data.csv'):\n",
    "    !wget -O \"car-data.csv\" \"https://raw.githubusercontent.com/alexeygrigorev/mlbookcamp-code/master/chapter-02-car-price/data.csv\" "
   ]
  },
  {
   "cell_type": "markdown",
   "id": "18cec1b0",
   "metadata": {},
   "source": [
    "## Prepare the Data\n",
    "1. Read in with Pandas\n",
    "2. Preview Data\n",
    "3. Clean column for consitent naming \n",
    "4. Clean all object features for consistent naming"
   ]
  },
  {
   "cell_type": "code",
   "execution_count": 1315,
   "id": "1142ea43",
   "metadata": {},
   "outputs": [
    {
     "data": {
      "text/html": [
       "<div>\n",
       "<style scoped>\n",
       "    .dataframe tbody tr th:only-of-type {\n",
       "        vertical-align: middle;\n",
       "    }\n",
       "\n",
       "    .dataframe tbody tr th {\n",
       "        vertical-align: top;\n",
       "    }\n",
       "\n",
       "    .dataframe thead th {\n",
       "        text-align: right;\n",
       "    }\n",
       "</style>\n",
       "<table border=\"1\" class=\"dataframe\">\n",
       "  <thead>\n",
       "    <tr style=\"text-align: right;\">\n",
       "      <th></th>\n",
       "      <th>Make</th>\n",
       "      <th>Model</th>\n",
       "      <th>Year</th>\n",
       "      <th>Engine Fuel Type</th>\n",
       "      <th>Engine HP</th>\n",
       "      <th>Engine Cylinders</th>\n",
       "      <th>Transmission Type</th>\n",
       "      <th>Driven_Wheels</th>\n",
       "      <th>Number of Doors</th>\n",
       "      <th>Market Category</th>\n",
       "      <th>Vehicle Size</th>\n",
       "      <th>Vehicle Style</th>\n",
       "      <th>highway MPG</th>\n",
       "      <th>city mpg</th>\n",
       "      <th>Popularity</th>\n",
       "      <th>MSRP</th>\n",
       "    </tr>\n",
       "  </thead>\n",
       "  <tbody>\n",
       "    <tr>\n",
       "      <th>0</th>\n",
       "      <td>BMW</td>\n",
       "      <td>1 Series M</td>\n",
       "      <td>2011</td>\n",
       "      <td>premium unleaded (required)</td>\n",
       "      <td>335.0</td>\n",
       "      <td>6.0</td>\n",
       "      <td>MANUAL</td>\n",
       "      <td>rear wheel drive</td>\n",
       "      <td>2.0</td>\n",
       "      <td>Factory Tuner,Luxury,High-Performance</td>\n",
       "      <td>Compact</td>\n",
       "      <td>Coupe</td>\n",
       "      <td>26</td>\n",
       "      <td>19</td>\n",
       "      <td>3916</td>\n",
       "      <td>46135</td>\n",
       "    </tr>\n",
       "    <tr>\n",
       "      <th>1</th>\n",
       "      <td>BMW</td>\n",
       "      <td>1 Series</td>\n",
       "      <td>2011</td>\n",
       "      <td>premium unleaded (required)</td>\n",
       "      <td>300.0</td>\n",
       "      <td>6.0</td>\n",
       "      <td>MANUAL</td>\n",
       "      <td>rear wheel drive</td>\n",
       "      <td>2.0</td>\n",
       "      <td>Luxury,Performance</td>\n",
       "      <td>Compact</td>\n",
       "      <td>Convertible</td>\n",
       "      <td>28</td>\n",
       "      <td>19</td>\n",
       "      <td>3916</td>\n",
       "      <td>40650</td>\n",
       "    </tr>\n",
       "    <tr>\n",
       "      <th>2</th>\n",
       "      <td>BMW</td>\n",
       "      <td>1 Series</td>\n",
       "      <td>2011</td>\n",
       "      <td>premium unleaded (required)</td>\n",
       "      <td>300.0</td>\n",
       "      <td>6.0</td>\n",
       "      <td>MANUAL</td>\n",
       "      <td>rear wheel drive</td>\n",
       "      <td>2.0</td>\n",
       "      <td>Luxury,High-Performance</td>\n",
       "      <td>Compact</td>\n",
       "      <td>Coupe</td>\n",
       "      <td>28</td>\n",
       "      <td>20</td>\n",
       "      <td>3916</td>\n",
       "      <td>36350</td>\n",
       "    </tr>\n",
       "    <tr>\n",
       "      <th>3</th>\n",
       "      <td>BMW</td>\n",
       "      <td>1 Series</td>\n",
       "      <td>2011</td>\n",
       "      <td>premium unleaded (required)</td>\n",
       "      <td>230.0</td>\n",
       "      <td>6.0</td>\n",
       "      <td>MANUAL</td>\n",
       "      <td>rear wheel drive</td>\n",
       "      <td>2.0</td>\n",
       "      <td>Luxury,Performance</td>\n",
       "      <td>Compact</td>\n",
       "      <td>Coupe</td>\n",
       "      <td>28</td>\n",
       "      <td>18</td>\n",
       "      <td>3916</td>\n",
       "      <td>29450</td>\n",
       "    </tr>\n",
       "    <tr>\n",
       "      <th>4</th>\n",
       "      <td>BMW</td>\n",
       "      <td>1 Series</td>\n",
       "      <td>2011</td>\n",
       "      <td>premium unleaded (required)</td>\n",
       "      <td>230.0</td>\n",
       "      <td>6.0</td>\n",
       "      <td>MANUAL</td>\n",
       "      <td>rear wheel drive</td>\n",
       "      <td>2.0</td>\n",
       "      <td>Luxury</td>\n",
       "      <td>Compact</td>\n",
       "      <td>Convertible</td>\n",
       "      <td>28</td>\n",
       "      <td>18</td>\n",
       "      <td>3916</td>\n",
       "      <td>34500</td>\n",
       "    </tr>\n",
       "  </tbody>\n",
       "</table>\n",
       "</div>"
      ],
      "text/plain": [
       "  Make       Model  Year             Engine Fuel Type  Engine HP  \\\n",
       "0  BMW  1 Series M  2011  premium unleaded (required)      335.0   \n",
       "1  BMW    1 Series  2011  premium unleaded (required)      300.0   \n",
       "2  BMW    1 Series  2011  premium unleaded (required)      300.0   \n",
       "3  BMW    1 Series  2011  premium unleaded (required)      230.0   \n",
       "4  BMW    1 Series  2011  premium unleaded (required)      230.0   \n",
       "\n",
       "   Engine Cylinders Transmission Type     Driven_Wheels  Number of Doors  \\\n",
       "0               6.0            MANUAL  rear wheel drive              2.0   \n",
       "1               6.0            MANUAL  rear wheel drive              2.0   \n",
       "2               6.0            MANUAL  rear wheel drive              2.0   \n",
       "3               6.0            MANUAL  rear wheel drive              2.0   \n",
       "4               6.0            MANUAL  rear wheel drive              2.0   \n",
       "\n",
       "                         Market Category Vehicle Size Vehicle Style  \\\n",
       "0  Factory Tuner,Luxury,High-Performance      Compact         Coupe   \n",
       "1                     Luxury,Performance      Compact   Convertible   \n",
       "2                Luxury,High-Performance      Compact         Coupe   \n",
       "3                     Luxury,Performance      Compact         Coupe   \n",
       "4                                 Luxury      Compact   Convertible   \n",
       "\n",
       "   highway MPG  city mpg  Popularity   MSRP  \n",
       "0           26        19        3916  46135  \n",
       "1           28        19        3916  40650  \n",
       "2           28        20        3916  36350  \n",
       "3           28        18        3916  29450  \n",
       "4           28        18        3916  34500  "
      ]
     },
     "execution_count": 1315,
     "metadata": {},
     "output_type": "execute_result"
    }
   ],
   "source": [
    "cars_df = pd.read_csv(\"car-data.csv\")\n",
    "cars_df.head()"
   ]
  },
  {
   "cell_type": "code",
   "execution_count": 1316,
   "id": "a953a5f4",
   "metadata": {},
   "outputs": [
    {
     "data": {
      "text/html": [
       "<div>\n",
       "<style scoped>\n",
       "    .dataframe tbody tr th:only-of-type {\n",
       "        vertical-align: middle;\n",
       "    }\n",
       "\n",
       "    .dataframe tbody tr th {\n",
       "        vertical-align: top;\n",
       "    }\n",
       "\n",
       "    .dataframe thead th {\n",
       "        text-align: right;\n",
       "    }\n",
       "</style>\n",
       "<table border=\"1\" class=\"dataframe\">\n",
       "  <thead>\n",
       "    <tr style=\"text-align: right;\">\n",
       "      <th></th>\n",
       "      <th>make</th>\n",
       "      <th>model</th>\n",
       "      <th>year</th>\n",
       "      <th>engine_fuel_type</th>\n",
       "      <th>engine_hp</th>\n",
       "      <th>engine_cylinders</th>\n",
       "      <th>transmission_type</th>\n",
       "      <th>driven_wheels</th>\n",
       "      <th>number_of_doors</th>\n",
       "      <th>market_category</th>\n",
       "      <th>vehicle_size</th>\n",
       "      <th>vehicle_style</th>\n",
       "      <th>highway_mpg</th>\n",
       "      <th>city_mpg</th>\n",
       "      <th>popularity</th>\n",
       "      <th>msrp</th>\n",
       "    </tr>\n",
       "  </thead>\n",
       "  <tbody>\n",
       "    <tr>\n",
       "      <th>0</th>\n",
       "      <td>BMW</td>\n",
       "      <td>1 Series M</td>\n",
       "      <td>2011</td>\n",
       "      <td>premium unleaded (required)</td>\n",
       "      <td>335.0</td>\n",
       "      <td>6.0</td>\n",
       "      <td>MANUAL</td>\n",
       "      <td>rear wheel drive</td>\n",
       "      <td>2.0</td>\n",
       "      <td>Factory Tuner,Luxury,High-Performance</td>\n",
       "      <td>Compact</td>\n",
       "      <td>Coupe</td>\n",
       "      <td>26</td>\n",
       "      <td>19</td>\n",
       "      <td>3916</td>\n",
       "      <td>46135</td>\n",
       "    </tr>\n",
       "    <tr>\n",
       "      <th>1</th>\n",
       "      <td>BMW</td>\n",
       "      <td>1 Series</td>\n",
       "      <td>2011</td>\n",
       "      <td>premium unleaded (required)</td>\n",
       "      <td>300.0</td>\n",
       "      <td>6.0</td>\n",
       "      <td>MANUAL</td>\n",
       "      <td>rear wheel drive</td>\n",
       "      <td>2.0</td>\n",
       "      <td>Luxury,Performance</td>\n",
       "      <td>Compact</td>\n",
       "      <td>Convertible</td>\n",
       "      <td>28</td>\n",
       "      <td>19</td>\n",
       "      <td>3916</td>\n",
       "      <td>40650</td>\n",
       "    </tr>\n",
       "    <tr>\n",
       "      <th>2</th>\n",
       "      <td>BMW</td>\n",
       "      <td>1 Series</td>\n",
       "      <td>2011</td>\n",
       "      <td>premium unleaded (required)</td>\n",
       "      <td>300.0</td>\n",
       "      <td>6.0</td>\n",
       "      <td>MANUAL</td>\n",
       "      <td>rear wheel drive</td>\n",
       "      <td>2.0</td>\n",
       "      <td>Luxury,High-Performance</td>\n",
       "      <td>Compact</td>\n",
       "      <td>Coupe</td>\n",
       "      <td>28</td>\n",
       "      <td>20</td>\n",
       "      <td>3916</td>\n",
       "      <td>36350</td>\n",
       "    </tr>\n",
       "    <tr>\n",
       "      <th>3</th>\n",
       "      <td>BMW</td>\n",
       "      <td>1 Series</td>\n",
       "      <td>2011</td>\n",
       "      <td>premium unleaded (required)</td>\n",
       "      <td>230.0</td>\n",
       "      <td>6.0</td>\n",
       "      <td>MANUAL</td>\n",
       "      <td>rear wheel drive</td>\n",
       "      <td>2.0</td>\n",
       "      <td>Luxury,Performance</td>\n",
       "      <td>Compact</td>\n",
       "      <td>Coupe</td>\n",
       "      <td>28</td>\n",
       "      <td>18</td>\n",
       "      <td>3916</td>\n",
       "      <td>29450</td>\n",
       "    </tr>\n",
       "    <tr>\n",
       "      <th>4</th>\n",
       "      <td>BMW</td>\n",
       "      <td>1 Series</td>\n",
       "      <td>2011</td>\n",
       "      <td>premium unleaded (required)</td>\n",
       "      <td>230.0</td>\n",
       "      <td>6.0</td>\n",
       "      <td>MANUAL</td>\n",
       "      <td>rear wheel drive</td>\n",
       "      <td>2.0</td>\n",
       "      <td>Luxury</td>\n",
       "      <td>Compact</td>\n",
       "      <td>Convertible</td>\n",
       "      <td>28</td>\n",
       "      <td>18</td>\n",
       "      <td>3916</td>\n",
       "      <td>34500</td>\n",
       "    </tr>\n",
       "  </tbody>\n",
       "</table>\n",
       "</div>"
      ],
      "text/plain": [
       "  make       model  year             engine_fuel_type  engine_hp  \\\n",
       "0  BMW  1 Series M  2011  premium unleaded (required)      335.0   \n",
       "1  BMW    1 Series  2011  premium unleaded (required)      300.0   \n",
       "2  BMW    1 Series  2011  premium unleaded (required)      300.0   \n",
       "3  BMW    1 Series  2011  premium unleaded (required)      230.0   \n",
       "4  BMW    1 Series  2011  premium unleaded (required)      230.0   \n",
       "\n",
       "   engine_cylinders transmission_type     driven_wheels  number_of_doors  \\\n",
       "0               6.0            MANUAL  rear wheel drive              2.0   \n",
       "1               6.0            MANUAL  rear wheel drive              2.0   \n",
       "2               6.0            MANUAL  rear wheel drive              2.0   \n",
       "3               6.0            MANUAL  rear wheel drive              2.0   \n",
       "4               6.0            MANUAL  rear wheel drive              2.0   \n",
       "\n",
       "                         market_category vehicle_size vehicle_style  \\\n",
       "0  Factory Tuner,Luxury,High-Performance      Compact         Coupe   \n",
       "1                     Luxury,Performance      Compact   Convertible   \n",
       "2                Luxury,High-Performance      Compact         Coupe   \n",
       "3                     Luxury,Performance      Compact         Coupe   \n",
       "4                                 Luxury      Compact   Convertible   \n",
       "\n",
       "   highway_mpg  city_mpg  popularity   msrp  \n",
       "0           26        19        3916  46135  \n",
       "1           28        19        3916  40650  \n",
       "2           28        20        3916  36350  \n",
       "3           28        18        3916  29450  \n",
       "4           28        18        3916  34500  "
      ]
     },
     "execution_count": 1316,
     "metadata": {},
     "output_type": "execute_result"
    }
   ],
   "source": [
    "cars_df.columns = cars_df.columns.str.lower().str.replace(' ', '_')\n",
    "cars_df.head()"
   ]
  },
  {
   "cell_type": "code",
   "execution_count": 1317,
   "id": "287118d0",
   "metadata": {
    "scrolled": true
   },
   "outputs": [
    {
     "data": {
      "text/html": [
       "<div>\n",
       "<style scoped>\n",
       "    .dataframe tbody tr th:only-of-type {\n",
       "        vertical-align: middle;\n",
       "    }\n",
       "\n",
       "    .dataframe tbody tr th {\n",
       "        vertical-align: top;\n",
       "    }\n",
       "\n",
       "    .dataframe thead th {\n",
       "        text-align: right;\n",
       "    }\n",
       "</style>\n",
       "<table border=\"1\" class=\"dataframe\">\n",
       "  <thead>\n",
       "    <tr style=\"text-align: right;\">\n",
       "      <th></th>\n",
       "      <th>make</th>\n",
       "      <th>model</th>\n",
       "      <th>year</th>\n",
       "      <th>engine_fuel_type</th>\n",
       "      <th>engine_hp</th>\n",
       "      <th>engine_cylinders</th>\n",
       "      <th>transmission_type</th>\n",
       "      <th>driven_wheels</th>\n",
       "      <th>number_of_doors</th>\n",
       "      <th>market_category</th>\n",
       "      <th>vehicle_size</th>\n",
       "      <th>vehicle_style</th>\n",
       "      <th>highway_mpg</th>\n",
       "      <th>city_mpg</th>\n",
       "      <th>popularity</th>\n",
       "      <th>msrp</th>\n",
       "    </tr>\n",
       "  </thead>\n",
       "  <tbody>\n",
       "    <tr>\n",
       "      <th>0</th>\n",
       "      <td>bmw</td>\n",
       "      <td>1_series_m</td>\n",
       "      <td>2011</td>\n",
       "      <td>premium_unleaded_(required)</td>\n",
       "      <td>335.0</td>\n",
       "      <td>6.0</td>\n",
       "      <td>manual</td>\n",
       "      <td>rear_wheel_drive</td>\n",
       "      <td>2.0</td>\n",
       "      <td>factory_tuner,luxury,high-performance</td>\n",
       "      <td>compact</td>\n",
       "      <td>coupe</td>\n",
       "      <td>26</td>\n",
       "      <td>19</td>\n",
       "      <td>3916</td>\n",
       "      <td>46135</td>\n",
       "    </tr>\n",
       "    <tr>\n",
       "      <th>1</th>\n",
       "      <td>bmw</td>\n",
       "      <td>1_series</td>\n",
       "      <td>2011</td>\n",
       "      <td>premium_unleaded_(required)</td>\n",
       "      <td>300.0</td>\n",
       "      <td>6.0</td>\n",
       "      <td>manual</td>\n",
       "      <td>rear_wheel_drive</td>\n",
       "      <td>2.0</td>\n",
       "      <td>luxury,performance</td>\n",
       "      <td>compact</td>\n",
       "      <td>convertible</td>\n",
       "      <td>28</td>\n",
       "      <td>19</td>\n",
       "      <td>3916</td>\n",
       "      <td>40650</td>\n",
       "    </tr>\n",
       "    <tr>\n",
       "      <th>2</th>\n",
       "      <td>bmw</td>\n",
       "      <td>1_series</td>\n",
       "      <td>2011</td>\n",
       "      <td>premium_unleaded_(required)</td>\n",
       "      <td>300.0</td>\n",
       "      <td>6.0</td>\n",
       "      <td>manual</td>\n",
       "      <td>rear_wheel_drive</td>\n",
       "      <td>2.0</td>\n",
       "      <td>luxury,high-performance</td>\n",
       "      <td>compact</td>\n",
       "      <td>coupe</td>\n",
       "      <td>28</td>\n",
       "      <td>20</td>\n",
       "      <td>3916</td>\n",
       "      <td>36350</td>\n",
       "    </tr>\n",
       "    <tr>\n",
       "      <th>3</th>\n",
       "      <td>bmw</td>\n",
       "      <td>1_series</td>\n",
       "      <td>2011</td>\n",
       "      <td>premium_unleaded_(required)</td>\n",
       "      <td>230.0</td>\n",
       "      <td>6.0</td>\n",
       "      <td>manual</td>\n",
       "      <td>rear_wheel_drive</td>\n",
       "      <td>2.0</td>\n",
       "      <td>luxury,performance</td>\n",
       "      <td>compact</td>\n",
       "      <td>coupe</td>\n",
       "      <td>28</td>\n",
       "      <td>18</td>\n",
       "      <td>3916</td>\n",
       "      <td>29450</td>\n",
       "    </tr>\n",
       "    <tr>\n",
       "      <th>4</th>\n",
       "      <td>bmw</td>\n",
       "      <td>1_series</td>\n",
       "      <td>2011</td>\n",
       "      <td>premium_unleaded_(required)</td>\n",
       "      <td>230.0</td>\n",
       "      <td>6.0</td>\n",
       "      <td>manual</td>\n",
       "      <td>rear_wheel_drive</td>\n",
       "      <td>2.0</td>\n",
       "      <td>luxury</td>\n",
       "      <td>compact</td>\n",
       "      <td>convertible</td>\n",
       "      <td>28</td>\n",
       "      <td>18</td>\n",
       "      <td>3916</td>\n",
       "      <td>34500</td>\n",
       "    </tr>\n",
       "  </tbody>\n",
       "</table>\n",
       "</div>"
      ],
      "text/plain": [
       "  make       model  year             engine_fuel_type  engine_hp  \\\n",
       "0  bmw  1_series_m  2011  premium_unleaded_(required)      335.0   \n",
       "1  bmw    1_series  2011  premium_unleaded_(required)      300.0   \n",
       "2  bmw    1_series  2011  premium_unleaded_(required)      300.0   \n",
       "3  bmw    1_series  2011  premium_unleaded_(required)      230.0   \n",
       "4  bmw    1_series  2011  premium_unleaded_(required)      230.0   \n",
       "\n",
       "   engine_cylinders transmission_type     driven_wheels  number_of_doors  \\\n",
       "0               6.0            manual  rear_wheel_drive              2.0   \n",
       "1               6.0            manual  rear_wheel_drive              2.0   \n",
       "2               6.0            manual  rear_wheel_drive              2.0   \n",
       "3               6.0            manual  rear_wheel_drive              2.0   \n",
       "4               6.0            manual  rear_wheel_drive              2.0   \n",
       "\n",
       "                         market_category vehicle_size vehicle_style  \\\n",
       "0  factory_tuner,luxury,high-performance      compact         coupe   \n",
       "1                     luxury,performance      compact   convertible   \n",
       "2                luxury,high-performance      compact         coupe   \n",
       "3                     luxury,performance      compact         coupe   \n",
       "4                                 luxury      compact   convertible   \n",
       "\n",
       "   highway_mpg  city_mpg  popularity   msrp  \n",
       "0           26        19        3916  46135  \n",
       "1           28        19        3916  40650  \n",
       "2           28        20        3916  36350  \n",
       "3           28        18        3916  29450  \n",
       "4           28        18        3916  34500  "
      ]
     },
     "execution_count": 1317,
     "metadata": {},
     "output_type": "execute_result"
    }
   ],
   "source": [
    "string_features = list(cars_df.dtypes[cars_df.dtypes == \"object\"].index)\n",
    "for feature in string_features:\n",
    "    cars_df[feature] = cars_df[feature].str.lower().str.replace(' ', '_')\n",
    "\n",
    "cars_df.head()"
   ]
  },
  {
   "cell_type": "markdown",
   "id": "c7a48ef3",
   "metadata": {},
   "source": [
    "## EDA"
   ]
  },
  {
   "cell_type": "markdown",
   "id": "692f6b78",
   "metadata": {},
   "source": [
    "### see each column unique values count and sample of values "
   ]
  },
  {
   "cell_type": "code",
   "execution_count": 1318,
   "id": "1b41c1bc",
   "metadata": {
    "scrolled": false
   },
   "outputs": [
    {
     "name": "stdout",
     "output_type": "stream",
     "text": [
      "make\n",
      "['bmw' 'audi' 'fiat' 'mercedes-benz' 'chrysler' 'nissan']\n",
      "48\n",
      "chevrolet     1123\n",
      "ford           881\n",
      "volkswagen     809\n",
      "toyota         746\n",
      "dodge          626\n",
      "nissan         558\n",
      "Name: make, dtype: int64\n",
      "\n",
      "model\n",
      "['1_series_m' '1_series' '100' '124_spider' '190-class' '2_series']\n",
      "914\n",
      "silverado_1500        156\n",
      "tundra                140\n",
      "f-150                 126\n",
      "sierra_1500            90\n",
      "beetle_convertible     89\n",
      "tacoma                 80\n",
      "Name: model, dtype: int64\n",
      "\n",
      "year\n",
      "[2011 2012 2013 1992 1993 1994]\n",
      "28\n",
      "2015    2170\n",
      "2016    2157\n",
      "2017    1668\n",
      "2014     589\n",
      "2012     387\n",
      "2009     379\n",
      "Name: year, dtype: int64\n",
      "\n",
      "engine_fuel_type\n",
      "['premium_unleaded_(required)' 'regular_unleaded'\n",
      " 'premium_unleaded_(recommended)' 'flex-fuel_(unleaded/e85)' 'diesel'\n",
      " 'electric']\n",
      "10\n",
      "regular_unleaded                  7172\n",
      "premium_unleaded_(required)       2009\n",
      "premium_unleaded_(recommended)    1523\n",
      "flex-fuel_(unleaded/e85)           899\n",
      "diesel                             154\n",
      "electric                            66\n",
      "Name: engine_fuel_type, dtype: int64\n",
      "\n",
      "engine_hp\n",
      "[335. 300. 230. 320. 172. 160.]\n",
      "356\n",
      "200.0    456\n",
      "170.0    351\n",
      "210.0    320\n",
      "240.0    268\n",
      "285.0    246\n",
      "185.0    241\n",
      "Name: engine_hp, dtype: int64\n",
      "\n",
      "engine_cylinders\n",
      "[ 6.  4.  5.  8. 12.  0.]\n",
      "9\n",
      "4.0     4752\n",
      "6.0     4489\n",
      "8.0     2031\n",
      "12.0     230\n",
      "5.0      225\n",
      "10.0      68\n",
      "Name: engine_cylinders, dtype: int64\n",
      "\n",
      "transmission_type\n",
      "['manual' 'automatic' 'automated_manual' 'direct_drive' 'unknown']\n",
      "5\n",
      "automatic           8266\n",
      "manual              2935\n",
      "automated_manual     626\n",
      "direct_drive          68\n",
      "unknown               19\n",
      "Name: transmission_type, dtype: int64\n",
      "\n",
      "driven_wheels\n",
      "['rear_wheel_drive' 'front_wheel_drive' 'all_wheel_drive'\n",
      " 'four_wheel_drive']\n",
      "4\n",
      "front_wheel_drive    4787\n",
      "rear_wheel_drive     3371\n",
      "all_wheel_drive      2353\n",
      "four_wheel_drive     1403\n",
      "Name: driven_wheels, dtype: int64\n",
      "\n",
      "number_of_doors\n",
      "[ 2.  4.  3. nan]\n",
      "3\n",
      "4.0    8353\n",
      "2.0    3160\n",
      "3.0     395\n",
      "Name: number_of_doors, dtype: int64\n",
      "\n",
      "market_category\n",
      "['factory_tuner,luxury,high-performance' 'luxury,performance'\n",
      " 'luxury,high-performance' 'luxury' 'performance' 'flex_fuel']\n",
      "71\n",
      "crossover             1110\n",
      "flex_fuel              872\n",
      "luxury                 855\n",
      "luxury,performance     673\n",
      "hatchback              641\n",
      "performance            601\n",
      "Name: market_category, dtype: int64\n",
      "\n",
      "vehicle_size\n",
      "['compact' 'midsize' 'large']\n",
      "3\n",
      "compact    4764\n",
      "midsize    4373\n",
      "large      2777\n",
      "Name: vehicle_size, dtype: int64\n",
      "\n",
      "vehicle_style\n",
      "['coupe' 'convertible' 'sedan' 'wagon' '4dr_hatchback' '2dr_hatchback']\n",
      "16\n",
      "sedan              3048\n",
      "4dr_suv            2488\n",
      "coupe              1211\n",
      "convertible         793\n",
      "4dr_hatchback       702\n",
      "crew_cab_pickup     681\n",
      "Name: vehicle_style, dtype: int64\n",
      "\n",
      "highway_mpg\n",
      "[26 28 27 25 24 20]\n",
      "59\n",
      "24    876\n",
      "23    801\n",
      "26    778\n",
      "22    753\n",
      "25    731\n",
      "28    682\n",
      "Name: highway_mpg, dtype: int64\n",
      "\n",
      "city_mpg\n",
      "[19 20 18 17 16 26]\n",
      "69\n",
      "17    1230\n",
      "16    1106\n",
      "15    1038\n",
      "18     997\n",
      "19     841\n",
      "20     795\n",
      "Name: city_mpg, dtype: int64\n",
      "\n",
      "popularity\n",
      "[3916 3105  819  617 1013 2009]\n",
      "48\n",
      "1385    1123\n",
      "5657     881\n",
      "873      809\n",
      "2031     746\n",
      "1851     626\n",
      "2009     558\n",
      "Name: popularity, dtype: int64\n",
      "\n",
      "msrp\n",
      "[46135 40650 36350 29450 34500 31200]\n",
      "6049\n",
      "2000     1036\n",
      "29995      19\n",
      "25995      19\n",
      "20995      16\n",
      "27995      16\n",
      "23995      15\n",
      "Name: msrp, dtype: int64\n",
      "\n"
     ]
    }
   ],
   "source": [
    "for feature in cars_df.columns:\n",
    "    print(feature)\n",
    "    print(cars_df[feature].unique()[:6])\n",
    "    print(cars_df[feature].nunique())\n",
    "    print(cars_df[feature].value_counts().iloc[:6])\n",
    "    print()"
   ]
  },
  {
   "cell_type": "markdown",
   "id": "d67edffc",
   "metadata": {},
   "source": [
    "### Check for missing values"
   ]
  },
  {
   "cell_type": "code",
   "execution_count": 1319,
   "id": "dedcec5e",
   "metadata": {},
   "outputs": [
    {
     "data": {
      "text/plain": [
       "engine_fuel_type       3\n",
       "engine_hp             69\n",
       "engine_cylinders      30\n",
       "number_of_doors        6\n",
       "market_category     3742\n",
       "dtype: int64"
      ]
     },
     "execution_count": 1319,
     "metadata": {},
     "output_type": "execute_result"
    }
   ],
   "source": [
    "cars_df.isnull().sum()[cars_df.isnull().sum() > 0]       "
   ]
  },
  {
   "cell_type": "markdown",
   "id": "d729fed1",
   "metadata": {},
   "source": [
    "### Check distribution of target variable"
   ]
  },
  {
   "cell_type": "code",
   "execution_count": 1320,
   "id": "831fbdee",
   "metadata": {},
   "outputs": [
    {
     "data": {
      "text/plain": [
       "<AxesSubplot:xlabel='msrp', ylabel='Count'>"
      ]
     },
     "execution_count": 1320,
     "metadata": {},
     "output_type": "execute_result"
    },
    {
     "data": {
      "image/png": "[encoded data removed]",
      "text/plain": [
       "<Figure size 640x480 with 1 Axes>"
      ]
     },
     "metadata": {},
     "output_type": "display_data"
    }
   ],
   "source": [
    "sns.histplot(cars_df.msrp)"
   ]
  },
  {
   "cell_type": "code",
   "execution_count": 1321,
   "id": "1e2772be",
   "metadata": {},
   "outputs": [
    {
     "data": {
      "text/plain": [
       "<AxesSubplot:xlabel='msrp', ylabel='Count'>"
      ]
     },
     "execution_count": 1321,
     "metadata": {},
     "output_type": "execute_result"
    },
    {
     "data": {
      "image/png": "[encoded data removed]",
      "text/plain": [
       "<Figure size 640x480 with 1 Axes>"
      ]
     },
     "metadata": {},
     "output_type": "display_data"
    }
   ],
   "source": [
    "#zooming in with number of bins\n",
    "sns.histplot(cars_df.msrp, bins=50)"
   ]
  },
  {
   "cell_type": "code",
   "execution_count": 1322,
   "id": "97410e81",
   "metadata": {},
   "outputs": [
    {
     "data": {
      "text/plain": [
       "<AxesSubplot:xlabel='msrp', ylabel='Count'>"
      ]
     },
     "execution_count": 1322,
     "metadata": {},
     "output_type": "execute_result"
    },
    {
     "data": {
      "image/png": "[encoded data removed]",
      "text/plain": [
       "<Figure size 640x480 with 1 Axes>"
      ]
     },
     "metadata": {},
     "output_type": "display_data"
    }
   ],
   "source": [
    "#zoom in by reducing maximum price\n",
    "sns.histplot(cars_df[cars_df.msrp < 100000].msrp, bins=50)"
   ]
  },
  {
   "cell_type": "code",
   "execution_count": 1323,
   "id": "9b97590c",
   "metadata": {},
   "outputs": [
    {
     "data": {
      "text/plain": [
       "0        10.739349\n",
       "1        10.612779\n",
       "2        10.500977\n",
       "3        10.290483\n",
       "4        10.448744\n",
       "           ...    \n",
       "11909    10.739024\n",
       "11910    10.945018\n",
       "11911    10.832122\n",
       "11912    10.838031\n",
       "11913    10.274913\n",
       "Name: msrp, Length: 11914, dtype: float64"
      ]
     },
     "execution_count": 1323,
     "metadata": {},
     "output_type": "execute_result"
    }
   ],
   "source": [
    "#Because distribution is long tail, normalize\n",
    "log1p_msrp = np.log1p(cars_df.msrp) \n",
    "log1p_msrp"
   ]
  },
  {
   "cell_type": "code",
   "execution_count": 1324,
   "id": "84fd3198",
   "metadata": {
    "scrolled": false
   },
   "outputs": [
    {
     "data": {
      "text/plain": [
       "<AxesSubplot:xlabel='msrp', ylabel='Count'>"
      ]
     },
     "execution_count": 1324,
     "metadata": {},
     "output_type": "execute_result"
    },
    {
     "data": {
      "image/png": "[encoded data removed]",
      "text/plain": [
       "<Figure size 640x480 with 1 Axes>"
      ]
     },
     "metadata": {},
     "output_type": "display_data"
    }
   ],
   "source": [
    "sns.histplot(log1p_msrp, bins=50)"
   ]
  },
  {
   "cell_type": "markdown",
   "id": "2468fccd",
   "metadata": {},
   "source": [
    "## Setting up validation framework"
   ]
  },
  {
   "cell_type": "markdown",
   "id": "c5ba0b29",
   "metadata": {},
   "source": [
    "### Get sizes for training, validation and testing dataset"
   ]
  },
  {
   "cell_type": "code",
   "execution_count": 1325,
   "id": "b0f0ff16",
   "metadata": {},
   "outputs": [
    {
     "name": "stdout",
     "output_type": "stream",
     "text": [
      "2382 2382 7150\n"
     ]
    },
    {
     "data": {
      "text/plain": [
       "(11914, 11914)"
      ]
     },
     "execution_count": 1325,
     "metadata": {},
     "output_type": "execute_result"
    }
   ],
   "source": [
    "n = cars_df.shape[0]\n",
    "n_val = int(n * 0.2)\n",
    "n_test = int(n * 0.2)\n",
    "n_train = n - n_val - n_test\n",
    "\n",
    "print(n_val, n_test, n_train)\n",
    "n, n_val+n_test+n_train"
   ]
  },
  {
   "cell_type": "markdown",
   "id": "1ab4089e",
   "metadata": {},
   "source": [
    "### shuffle dataset index for randomness"
   ]
  },
  {
   "cell_type": "code",
   "execution_count": 1326,
   "id": "9145fbd5",
   "metadata": {},
   "outputs": [],
   "source": [
    "idx = np.arange(n)\n",
    "np.random.seed(2)\n",
    "np.random.shuffle(idx)"
   ]
  },
  {
   "cell_type": "markdown",
   "id": "92144850",
   "metadata": {},
   "source": [
    "### Select df_train, df_val, df_test"
   ]
  },
  {
   "cell_type": "code",
   "execution_count": 1327,
   "id": "e0bcf251",
   "metadata": {},
   "outputs": [
    {
     "name": "stdout",
     "output_type": "stream",
     "text": [
      "(7150, 16)\n"
     ]
    },
    {
     "data": {
      "text/html": [
       "<div>\n",
       "<style scoped>\n",
       "    .dataframe tbody tr th:only-of-type {\n",
       "        vertical-align: middle;\n",
       "    }\n",
       "\n",
       "    .dataframe tbody tr th {\n",
       "        vertical-align: top;\n",
       "    }\n",
       "\n",
       "    .dataframe thead th {\n",
       "        text-align: right;\n",
       "    }\n",
       "</style>\n",
       "<table border=\"1\" class=\"dataframe\">\n",
       "  <thead>\n",
       "    <tr style=\"text-align: right;\">\n",
       "      <th></th>\n",
       "      <th>make</th>\n",
       "      <th>model</th>\n",
       "      <th>year</th>\n",
       "      <th>engine_fuel_type</th>\n",
       "      <th>engine_hp</th>\n",
       "      <th>engine_cylinders</th>\n",
       "      <th>transmission_type</th>\n",
       "      <th>driven_wheels</th>\n",
       "      <th>number_of_doors</th>\n",
       "      <th>market_category</th>\n",
       "      <th>vehicle_size</th>\n",
       "      <th>vehicle_style</th>\n",
       "      <th>highway_mpg</th>\n",
       "      <th>city_mpg</th>\n",
       "      <th>popularity</th>\n",
       "      <th>msrp</th>\n",
       "    </tr>\n",
       "  </thead>\n",
       "  <tbody>\n",
       "    <tr>\n",
       "      <th>0</th>\n",
       "      <td>chevrolet</td>\n",
       "      <td>cobalt</td>\n",
       "      <td>2008</td>\n",
       "      <td>regular_unleaded</td>\n",
       "      <td>148.0</td>\n",
       "      <td>4.0</td>\n",
       "      <td>manual</td>\n",
       "      <td>front_wheel_drive</td>\n",
       "      <td>2.0</td>\n",
       "      <td>NaN</td>\n",
       "      <td>compact</td>\n",
       "      <td>coupe</td>\n",
       "      <td>33</td>\n",
       "      <td>24</td>\n",
       "      <td>1385</td>\n",
       "      <td>14410</td>\n",
       "    </tr>\n",
       "    <tr>\n",
       "      <th>1</th>\n",
       "      <td>toyota</td>\n",
       "      <td>matrix</td>\n",
       "      <td>2012</td>\n",
       "      <td>regular_unleaded</td>\n",
       "      <td>132.0</td>\n",
       "      <td>4.0</td>\n",
       "      <td>automatic</td>\n",
       "      <td>front_wheel_drive</td>\n",
       "      <td>4.0</td>\n",
       "      <td>hatchback</td>\n",
       "      <td>compact</td>\n",
       "      <td>4dr_hatchback</td>\n",
       "      <td>32</td>\n",
       "      <td>25</td>\n",
       "      <td>2031</td>\n",
       "      <td>19685</td>\n",
       "    </tr>\n",
       "    <tr>\n",
       "      <th>2</th>\n",
       "      <td>subaru</td>\n",
       "      <td>impreza</td>\n",
       "      <td>2016</td>\n",
       "      <td>regular_unleaded</td>\n",
       "      <td>148.0</td>\n",
       "      <td>4.0</td>\n",
       "      <td>automatic</td>\n",
       "      <td>all_wheel_drive</td>\n",
       "      <td>4.0</td>\n",
       "      <td>hatchback</td>\n",
       "      <td>compact</td>\n",
       "      <td>4dr_hatchback</td>\n",
       "      <td>37</td>\n",
       "      <td>28</td>\n",
       "      <td>640</td>\n",
       "      <td>19795</td>\n",
       "    </tr>\n",
       "    <tr>\n",
       "      <th>3</th>\n",
       "      <td>volkswagen</td>\n",
       "      <td>vanagon</td>\n",
       "      <td>1991</td>\n",
       "      <td>regular_unleaded</td>\n",
       "      <td>90.0</td>\n",
       "      <td>4.0</td>\n",
       "      <td>manual</td>\n",
       "      <td>rear_wheel_drive</td>\n",
       "      <td>3.0</td>\n",
       "      <td>NaN</td>\n",
       "      <td>large</td>\n",
       "      <td>passenger_minivan</td>\n",
       "      <td>18</td>\n",
       "      <td>16</td>\n",
       "      <td>873</td>\n",
       "      <td>2000</td>\n",
       "    </tr>\n",
       "    <tr>\n",
       "      <th>4</th>\n",
       "      <td>ford</td>\n",
       "      <td>f-150</td>\n",
       "      <td>2017</td>\n",
       "      <td>flex-fuel_(unleaded/e85)</td>\n",
       "      <td>385.0</td>\n",
       "      <td>8.0</td>\n",
       "      <td>automatic</td>\n",
       "      <td>four_wheel_drive</td>\n",
       "      <td>4.0</td>\n",
       "      <td>flex_fuel</td>\n",
       "      <td>large</td>\n",
       "      <td>crew_cab_pickup</td>\n",
       "      <td>21</td>\n",
       "      <td>15</td>\n",
       "      <td>5657</td>\n",
       "      <td>56260</td>\n",
       "    </tr>\n",
       "  </tbody>\n",
       "</table>\n",
       "</div>"
      ],
      "text/plain": [
       "         make    model  year          engine_fuel_type  engine_hp  \\\n",
       "0   chevrolet   cobalt  2008          regular_unleaded      148.0   \n",
       "1      toyota   matrix  2012          regular_unleaded      132.0   \n",
       "2      subaru  impreza  2016          regular_unleaded      148.0   \n",
       "3  volkswagen  vanagon  1991          regular_unleaded       90.0   \n",
       "4        ford    f-150  2017  flex-fuel_(unleaded/e85)      385.0   \n",
       "\n",
       "   engine_cylinders transmission_type      driven_wheels  number_of_doors  \\\n",
       "0               4.0            manual  front_wheel_drive              2.0   \n",
       "1               4.0         automatic  front_wheel_drive              4.0   \n",
       "2               4.0         automatic    all_wheel_drive              4.0   \n",
       "3               4.0            manual   rear_wheel_drive              3.0   \n",
       "4               8.0         automatic   four_wheel_drive              4.0   \n",
       "\n",
       "  market_category vehicle_size      vehicle_style  highway_mpg  city_mpg  \\\n",
       "0             NaN      compact              coupe           33        24   \n",
       "1       hatchback      compact      4dr_hatchback           32        25   \n",
       "2       hatchback      compact      4dr_hatchback           37        28   \n",
       "3             NaN        large  passenger_minivan           18        16   \n",
       "4       flex_fuel        large    crew_cab_pickup           21        15   \n",
       "\n",
       "   popularity   msrp  \n",
       "0        1385  14410  \n",
       "1        2031  19685  \n",
       "2         640  19795  \n",
       "3         873   2000  \n",
       "4        5657  56260  "
      ]
     },
     "execution_count": 1327,
     "metadata": {},
     "output_type": "execute_result"
    }
   ],
   "source": [
    "df_train = cars_df.iloc[idx[:n_train]].reset_index(drop=True)\n",
    "print(df_train.shape)\n",
    "df_train.head()"
   ]
  },
  {
   "cell_type": "code",
   "execution_count": 1328,
   "id": "cc84a867",
   "metadata": {},
   "outputs": [
    {
     "name": "stdout",
     "output_type": "stream",
     "text": [
      "(2382, 16)\n"
     ]
    },
    {
     "data": {
      "text/html": [
       "<div>\n",
       "<style scoped>\n",
       "    .dataframe tbody tr th:only-of-type {\n",
       "        vertical-align: middle;\n",
       "    }\n",
       "\n",
       "    .dataframe tbody tr th {\n",
       "        vertical-align: top;\n",
       "    }\n",
       "\n",
       "    .dataframe thead th {\n",
       "        text-align: right;\n",
       "    }\n",
       "</style>\n",
       "<table border=\"1\" class=\"dataframe\">\n",
       "  <thead>\n",
       "    <tr style=\"text-align: right;\">\n",
       "      <th></th>\n",
       "      <th>make</th>\n",
       "      <th>model</th>\n",
       "      <th>year</th>\n",
       "      <th>engine_fuel_type</th>\n",
       "      <th>engine_hp</th>\n",
       "      <th>engine_cylinders</th>\n",
       "      <th>transmission_type</th>\n",
       "      <th>driven_wheels</th>\n",
       "      <th>number_of_doors</th>\n",
       "      <th>market_category</th>\n",
       "      <th>vehicle_size</th>\n",
       "      <th>vehicle_style</th>\n",
       "      <th>highway_mpg</th>\n",
       "      <th>city_mpg</th>\n",
       "      <th>popularity</th>\n",
       "      <th>msrp</th>\n",
       "    </tr>\n",
       "  </thead>\n",
       "  <tbody>\n",
       "    <tr>\n",
       "      <th>0</th>\n",
       "      <td>chevrolet</td>\n",
       "      <td>colorado</td>\n",
       "      <td>2015</td>\n",
       "      <td>regular_unleaded</td>\n",
       "      <td>200.0</td>\n",
       "      <td>4.0</td>\n",
       "      <td>automatic</td>\n",
       "      <td>four_wheel_drive</td>\n",
       "      <td>4.0</td>\n",
       "      <td>NaN</td>\n",
       "      <td>compact</td>\n",
       "      <td>extended_cab_pickup</td>\n",
       "      <td>25</td>\n",
       "      <td>19</td>\n",
       "      <td>1385</td>\n",
       "      <td>26885</td>\n",
       "    </tr>\n",
       "    <tr>\n",
       "      <th>1</th>\n",
       "      <td>mercedes-benz</td>\n",
       "      <td>e-class</td>\n",
       "      <td>2017</td>\n",
       "      <td>premium_unleaded_(required)</td>\n",
       "      <td>241.0</td>\n",
       "      <td>4.0</td>\n",
       "      <td>automatic</td>\n",
       "      <td>all_wheel_drive</td>\n",
       "      <td>4.0</td>\n",
       "      <td>luxury</td>\n",
       "      <td>midsize</td>\n",
       "      <td>sedan</td>\n",
       "      <td>29</td>\n",
       "      <td>22</td>\n",
       "      <td>617</td>\n",
       "      <td>54650</td>\n",
       "    </tr>\n",
       "    <tr>\n",
       "      <th>2</th>\n",
       "      <td>ford</td>\n",
       "      <td>focus</td>\n",
       "      <td>2017</td>\n",
       "      <td>flex-fuel_(unleaded/e85)</td>\n",
       "      <td>160.0</td>\n",
       "      <td>4.0</td>\n",
       "      <td>manual</td>\n",
       "      <td>front_wheel_drive</td>\n",
       "      <td>4.0</td>\n",
       "      <td>flex_fuel</td>\n",
       "      <td>compact</td>\n",
       "      <td>sedan</td>\n",
       "      <td>36</td>\n",
       "      <td>26</td>\n",
       "      <td>5657</td>\n",
       "      <td>16775</td>\n",
       "    </tr>\n",
       "    <tr>\n",
       "      <th>3</th>\n",
       "      <td>acura</td>\n",
       "      <td>tlx</td>\n",
       "      <td>2016</td>\n",
       "      <td>premium_unleaded_(recommended)</td>\n",
       "      <td>290.0</td>\n",
       "      <td>6.0</td>\n",
       "      <td>automatic</td>\n",
       "      <td>front_wheel_drive</td>\n",
       "      <td>4.0</td>\n",
       "      <td>luxury</td>\n",
       "      <td>midsize</td>\n",
       "      <td>sedan</td>\n",
       "      <td>34</td>\n",
       "      <td>21</td>\n",
       "      <td>204</td>\n",
       "      <td>42600</td>\n",
       "    </tr>\n",
       "    <tr>\n",
       "      <th>4</th>\n",
       "      <td>volkswagen</td>\n",
       "      <td>beetle_convertible</td>\n",
       "      <td>2016</td>\n",
       "      <td>regular_unleaded</td>\n",
       "      <td>170.0</td>\n",
       "      <td>4.0</td>\n",
       "      <td>automatic</td>\n",
       "      <td>front_wheel_drive</td>\n",
       "      <td>2.0</td>\n",
       "      <td>NaN</td>\n",
       "      <td>compact</td>\n",
       "      <td>convertible</td>\n",
       "      <td>34</td>\n",
       "      <td>25</td>\n",
       "      <td>873</td>\n",
       "      <td>25995</td>\n",
       "    </tr>\n",
       "  </tbody>\n",
       "</table>\n",
       "</div>"
      ],
      "text/plain": [
       "            make               model  year                engine_fuel_type  \\\n",
       "0      chevrolet            colorado  2015                regular_unleaded   \n",
       "1  mercedes-benz             e-class  2017     premium_unleaded_(required)   \n",
       "2           ford               focus  2017        flex-fuel_(unleaded/e85)   \n",
       "3          acura                 tlx  2016  premium_unleaded_(recommended)   \n",
       "4     volkswagen  beetle_convertible  2016                regular_unleaded   \n",
       "\n",
       "   engine_hp  engine_cylinders transmission_type      driven_wheels  \\\n",
       "0      200.0               4.0         automatic   four_wheel_drive   \n",
       "1      241.0               4.0         automatic    all_wheel_drive   \n",
       "2      160.0               4.0            manual  front_wheel_drive   \n",
       "3      290.0               6.0         automatic  front_wheel_drive   \n",
       "4      170.0               4.0         automatic  front_wheel_drive   \n",
       "\n",
       "   number_of_doors market_category vehicle_size        vehicle_style  \\\n",
       "0              4.0             NaN      compact  extended_cab_pickup   \n",
       "1              4.0          luxury      midsize                sedan   \n",
       "2              4.0       flex_fuel      compact                sedan   \n",
       "3              4.0          luxury      midsize                sedan   \n",
       "4              2.0             NaN      compact          convertible   \n",
       "\n",
       "   highway_mpg  city_mpg  popularity   msrp  \n",
       "0           25        19        1385  26885  \n",
       "1           29        22         617  54650  \n",
       "2           36        26        5657  16775  \n",
       "3           34        21         204  42600  \n",
       "4           34        25         873  25995  "
      ]
     },
     "execution_count": 1328,
     "metadata": {},
     "output_type": "execute_result"
    }
   ],
   "source": [
    "df_val = cars_df.iloc[idx[n_train:n_train+n_val]].reset_index(drop=True)\n",
    "print(df_val.shape)\n",
    "df_val.head()"
   ]
  },
  {
   "cell_type": "code",
   "execution_count": 1329,
   "id": "a198601e",
   "metadata": {},
   "outputs": [
    {
     "name": "stdout",
     "output_type": "stream",
     "text": [
      "(2382, 16)\n"
     ]
    },
    {
     "data": {
      "text/html": [
       "<div>\n",
       "<style scoped>\n",
       "    .dataframe tbody tr th:only-of-type {\n",
       "        vertical-align: middle;\n",
       "    }\n",
       "\n",
       "    .dataframe tbody tr th {\n",
       "        vertical-align: top;\n",
       "    }\n",
       "\n",
       "    .dataframe thead th {\n",
       "        text-align: right;\n",
       "    }\n",
       "</style>\n",
       "<table border=\"1\" class=\"dataframe\">\n",
       "  <thead>\n",
       "    <tr style=\"text-align: right;\">\n",
       "      <th></th>\n",
       "      <th>make</th>\n",
       "      <th>model</th>\n",
       "      <th>year</th>\n",
       "      <th>engine_fuel_type</th>\n",
       "      <th>engine_hp</th>\n",
       "      <th>engine_cylinders</th>\n",
       "      <th>transmission_type</th>\n",
       "      <th>driven_wheels</th>\n",
       "      <th>number_of_doors</th>\n",
       "      <th>market_category</th>\n",
       "      <th>vehicle_size</th>\n",
       "      <th>vehicle_style</th>\n",
       "      <th>highway_mpg</th>\n",
       "      <th>city_mpg</th>\n",
       "      <th>popularity</th>\n",
       "      <th>msrp</th>\n",
       "    </tr>\n",
       "  </thead>\n",
       "  <tbody>\n",
       "    <tr>\n",
       "      <th>0</th>\n",
       "      <td>gmc</td>\n",
       "      <td>vandura</td>\n",
       "      <td>1994</td>\n",
       "      <td>regular_unleaded</td>\n",
       "      <td>165.0</td>\n",
       "      <td>6.0</td>\n",
       "      <td>automatic</td>\n",
       "      <td>rear_wheel_drive</td>\n",
       "      <td>3.0</td>\n",
       "      <td>NaN</td>\n",
       "      <td>compact</td>\n",
       "      <td>cargo_van</td>\n",
       "      <td>20</td>\n",
       "      <td>15</td>\n",
       "      <td>549</td>\n",
       "      <td>2000</td>\n",
       "    </tr>\n",
       "    <tr>\n",
       "      <th>1</th>\n",
       "      <td>mercedes-benz</td>\n",
       "      <td>600-class</td>\n",
       "      <td>1993</td>\n",
       "      <td>regular_unleaded</td>\n",
       "      <td>389.0</td>\n",
       "      <td>12.0</td>\n",
       "      <td>automatic</td>\n",
       "      <td>rear_wheel_drive</td>\n",
       "      <td>2.0</td>\n",
       "      <td>luxury</td>\n",
       "      <td>large</td>\n",
       "      <td>coupe</td>\n",
       "      <td>15</td>\n",
       "      <td>11</td>\n",
       "      <td>617</td>\n",
       "      <td>3211</td>\n",
       "    </tr>\n",
       "    <tr>\n",
       "      <th>2</th>\n",
       "      <td>toyota</td>\n",
       "      <td>venza</td>\n",
       "      <td>2013</td>\n",
       "      <td>regular_unleaded</td>\n",
       "      <td>268.0</td>\n",
       "      <td>6.0</td>\n",
       "      <td>automatic</td>\n",
       "      <td>all_wheel_drive</td>\n",
       "      <td>4.0</td>\n",
       "      <td>crossover,performance</td>\n",
       "      <td>midsize</td>\n",
       "      <td>wagon</td>\n",
       "      <td>25</td>\n",
       "      <td>18</td>\n",
       "      <td>2031</td>\n",
       "      <td>31120</td>\n",
       "    </tr>\n",
       "    <tr>\n",
       "      <th>3</th>\n",
       "      <td>volvo</td>\n",
       "      <td>740</td>\n",
       "      <td>1992</td>\n",
       "      <td>regular_unleaded</td>\n",
       "      <td>114.0</td>\n",
       "      <td>4.0</td>\n",
       "      <td>automatic</td>\n",
       "      <td>rear_wheel_drive</td>\n",
       "      <td>4.0</td>\n",
       "      <td>luxury</td>\n",
       "      <td>midsize</td>\n",
       "      <td>sedan</td>\n",
       "      <td>26</td>\n",
       "      <td>18</td>\n",
       "      <td>870</td>\n",
       "      <td>2000</td>\n",
       "    </tr>\n",
       "    <tr>\n",
       "      <th>4</th>\n",
       "      <td>ford</td>\n",
       "      <td>crown_victoria</td>\n",
       "      <td>2010</td>\n",
       "      <td>flex-fuel_(unleaded/e85)</td>\n",
       "      <td>224.0</td>\n",
       "      <td>8.0</td>\n",
       "      <td>automatic</td>\n",
       "      <td>rear_wheel_drive</td>\n",
       "      <td>4.0</td>\n",
       "      <td>flex_fuel</td>\n",
       "      <td>large</td>\n",
       "      <td>sedan</td>\n",
       "      <td>24</td>\n",
       "      <td>16</td>\n",
       "      <td>5657</td>\n",
       "      <td>29905</td>\n",
       "    </tr>\n",
       "  </tbody>\n",
       "</table>\n",
       "</div>"
      ],
      "text/plain": [
       "            make           model  year          engine_fuel_type  engine_hp  \\\n",
       "0            gmc         vandura  1994          regular_unleaded      165.0   \n",
       "1  mercedes-benz       600-class  1993          regular_unleaded      389.0   \n",
       "2         toyota           venza  2013          regular_unleaded      268.0   \n",
       "3          volvo             740  1992          regular_unleaded      114.0   \n",
       "4           ford  crown_victoria  2010  flex-fuel_(unleaded/e85)      224.0   \n",
       "\n",
       "   engine_cylinders transmission_type     driven_wheels  number_of_doors  \\\n",
       "0               6.0         automatic  rear_wheel_drive              3.0   \n",
       "1              12.0         automatic  rear_wheel_drive              2.0   \n",
       "2               6.0         automatic   all_wheel_drive              4.0   \n",
       "3               4.0         automatic  rear_wheel_drive              4.0   \n",
       "4               8.0         automatic  rear_wheel_drive              4.0   \n",
       "\n",
       "         market_category vehicle_size vehicle_style  highway_mpg  city_mpg  \\\n",
       "0                    NaN      compact     cargo_van           20        15   \n",
       "1                 luxury        large         coupe           15        11   \n",
       "2  crossover,performance      midsize         wagon           25        18   \n",
       "3                 luxury      midsize         sedan           26        18   \n",
       "4              flex_fuel        large         sedan           24        16   \n",
       "\n",
       "   popularity   msrp  \n",
       "0         549   2000  \n",
       "1         617   3211  \n",
       "2        2031  31120  \n",
       "3         870   2000  \n",
       "4        5657  29905  "
      ]
     },
     "execution_count": 1329,
     "metadata": {},
     "output_type": "execute_result"
    }
   ],
   "source": [
    "df_test = cars_df.iloc[idx[n_train+n_val:]].reset_index(drop=True)\n",
    "print(df_test.shape)\n",
    "df_test.head()"
   ]
  },
  {
   "cell_type": "markdown",
   "id": "a80d7935",
   "metadata": {},
   "source": [
    "### extract y_train, y_val, y_test"
   ]
  },
  {
   "cell_type": "code",
   "execution_count": 1330,
   "id": "15703caf",
   "metadata": {},
   "outputs": [
    {
     "data": {
      "text/plain": [
       "array([ 9.57574708,  9.887663  ,  9.89323518, ..., 10.45380308,\n",
       "       12.62248099, 10.54061978])"
      ]
     },
     "execution_count": 1330,
     "metadata": {},
     "output_type": "execute_result"
    }
   ],
   "source": [
    "y_train = np.log1p(df_train.msrp.values)\n",
    "y_train"
   ]
  },
  {
   "cell_type": "code",
   "execution_count": 1331,
   "id": "c8d29819",
   "metadata": {},
   "outputs": [
    {
     "data": {
      "text/plain": [
       "array([10.19936098, 10.90872279,  9.72770457, ..., 11.21756062,\n",
       "        9.77542688, 10.1924563 ])"
      ]
     },
     "execution_count": 1331,
     "metadata": {},
     "output_type": "execute_result"
    }
   ],
   "source": [
    "y_val = np.log1p(df_val.msrp.values)\n",
    "y_val"
   ]
  },
  {
   "cell_type": "code",
   "execution_count": 1332,
   "id": "96793f44",
   "metadata": {},
   "outputs": [
    {
     "data": {
      "text/plain": [
       "array([ 7.60140233,  8.07464908, 10.34563811, ..., 10.27852782,\n",
       "       10.00789261, 10.40414162])"
      ]
     },
     "execution_count": 1332,
     "metadata": {},
     "output_type": "execute_result"
    }
   ],
   "source": [
    "y_test = np.log1p(df_test.msrp.values)\n",
    "y_test"
   ]
  },
  {
   "cell_type": "markdown",
   "id": "d5b5436b",
   "metadata": {},
   "source": [
    "### Remove MSRP from datasets"
   ]
  },
  {
   "cell_type": "code",
   "execution_count": 1333,
   "id": "a75c8928",
   "metadata": {},
   "outputs": [
    {
     "data": {
      "text/html": [
       "<div>\n",
       "<style scoped>\n",
       "    .dataframe tbody tr th:only-of-type {\n",
       "        vertical-align: middle;\n",
       "    }\n",
       "\n",
       "    .dataframe tbody tr th {\n",
       "        vertical-align: top;\n",
       "    }\n",
       "\n",
       "    .dataframe thead th {\n",
       "        text-align: right;\n",
       "    }\n",
       "</style>\n",
       "<table border=\"1\" class=\"dataframe\">\n",
       "  <thead>\n",
       "    <tr style=\"text-align: right;\">\n",
       "      <th></th>\n",
       "      <th>make</th>\n",
       "      <th>model</th>\n",
       "      <th>year</th>\n",
       "      <th>engine_fuel_type</th>\n",
       "      <th>engine_hp</th>\n",
       "      <th>engine_cylinders</th>\n",
       "      <th>transmission_type</th>\n",
       "      <th>driven_wheels</th>\n",
       "      <th>number_of_doors</th>\n",
       "      <th>market_category</th>\n",
       "      <th>vehicle_size</th>\n",
       "      <th>vehicle_style</th>\n",
       "      <th>highway_mpg</th>\n",
       "      <th>city_mpg</th>\n",
       "      <th>popularity</th>\n",
       "    </tr>\n",
       "  </thead>\n",
       "  <tbody>\n",
       "    <tr>\n",
       "      <th>0</th>\n",
       "      <td>chevrolet</td>\n",
       "      <td>cobalt</td>\n",
       "      <td>2008</td>\n",
       "      <td>regular_unleaded</td>\n",
       "      <td>148.0</td>\n",
       "      <td>4.0</td>\n",
       "      <td>manual</td>\n",
       "      <td>front_wheel_drive</td>\n",
       "      <td>2.0</td>\n",
       "      <td>NaN</td>\n",
       "      <td>compact</td>\n",
       "      <td>coupe</td>\n",
       "      <td>33</td>\n",
       "      <td>24</td>\n",
       "      <td>1385</td>\n",
       "    </tr>\n",
       "    <tr>\n",
       "      <th>1</th>\n",
       "      <td>toyota</td>\n",
       "      <td>matrix</td>\n",
       "      <td>2012</td>\n",
       "      <td>regular_unleaded</td>\n",
       "      <td>132.0</td>\n",
       "      <td>4.0</td>\n",
       "      <td>automatic</td>\n",
       "      <td>front_wheel_drive</td>\n",
       "      <td>4.0</td>\n",
       "      <td>hatchback</td>\n",
       "      <td>compact</td>\n",
       "      <td>4dr_hatchback</td>\n",
       "      <td>32</td>\n",
       "      <td>25</td>\n",
       "      <td>2031</td>\n",
       "    </tr>\n",
       "    <tr>\n",
       "      <th>2</th>\n",
       "      <td>subaru</td>\n",
       "      <td>impreza</td>\n",
       "      <td>2016</td>\n",
       "      <td>regular_unleaded</td>\n",
       "      <td>148.0</td>\n",
       "      <td>4.0</td>\n",
       "      <td>automatic</td>\n",
       "      <td>all_wheel_drive</td>\n",
       "      <td>4.0</td>\n",
       "      <td>hatchback</td>\n",
       "      <td>compact</td>\n",
       "      <td>4dr_hatchback</td>\n",
       "      <td>37</td>\n",
       "      <td>28</td>\n",
       "      <td>640</td>\n",
       "    </tr>\n",
       "    <tr>\n",
       "      <th>3</th>\n",
       "      <td>volkswagen</td>\n",
       "      <td>vanagon</td>\n",
       "      <td>1991</td>\n",
       "      <td>regular_unleaded</td>\n",
       "      <td>90.0</td>\n",
       "      <td>4.0</td>\n",
       "      <td>manual</td>\n",
       "      <td>rear_wheel_drive</td>\n",
       "      <td>3.0</td>\n",
       "      <td>NaN</td>\n",
       "      <td>large</td>\n",
       "      <td>passenger_minivan</td>\n",
       "      <td>18</td>\n",
       "      <td>16</td>\n",
       "      <td>873</td>\n",
       "    </tr>\n",
       "    <tr>\n",
       "      <th>4</th>\n",
       "      <td>ford</td>\n",
       "      <td>f-150</td>\n",
       "      <td>2017</td>\n",
       "      <td>flex-fuel_(unleaded/e85)</td>\n",
       "      <td>385.0</td>\n",
       "      <td>8.0</td>\n",
       "      <td>automatic</td>\n",
       "      <td>four_wheel_drive</td>\n",
       "      <td>4.0</td>\n",
       "      <td>flex_fuel</td>\n",
       "      <td>large</td>\n",
       "      <td>crew_cab_pickup</td>\n",
       "      <td>21</td>\n",
       "      <td>15</td>\n",
       "      <td>5657</td>\n",
       "    </tr>\n",
       "  </tbody>\n",
       "</table>\n",
       "</div>"
      ],
      "text/plain": [
       "         make    model  year          engine_fuel_type  engine_hp  \\\n",
       "0   chevrolet   cobalt  2008          regular_unleaded      148.0   \n",
       "1      toyota   matrix  2012          regular_unleaded      132.0   \n",
       "2      subaru  impreza  2016          regular_unleaded      148.0   \n",
       "3  volkswagen  vanagon  1991          regular_unleaded       90.0   \n",
       "4        ford    f-150  2017  flex-fuel_(unleaded/e85)      385.0   \n",
       "\n",
       "   engine_cylinders transmission_type      driven_wheels  number_of_doors  \\\n",
       "0               4.0            manual  front_wheel_drive              2.0   \n",
       "1               4.0         automatic  front_wheel_drive              4.0   \n",
       "2               4.0         automatic    all_wheel_drive              4.0   \n",
       "3               4.0            manual   rear_wheel_drive              3.0   \n",
       "4               8.0         automatic   four_wheel_drive              4.0   \n",
       "\n",
       "  market_category vehicle_size      vehicle_style  highway_mpg  city_mpg  \\\n",
       "0             NaN      compact              coupe           33        24   \n",
       "1       hatchback      compact      4dr_hatchback           32        25   \n",
       "2       hatchback      compact      4dr_hatchback           37        28   \n",
       "3             NaN        large  passenger_minivan           18        16   \n",
       "4       flex_fuel        large    crew_cab_pickup           21        15   \n",
       "\n",
       "   popularity  \n",
       "0        1385  \n",
       "1        2031  \n",
       "2         640  \n",
       "3         873  \n",
       "4        5657  "
      ]
     },
     "execution_count": 1333,
     "metadata": {},
     "output_type": "execute_result"
    }
   ],
   "source": [
    "if 'msrp' in df_train.columns: \n",
    "    del df_train['msrp']\n",
    "df_train.head()"
   ]
  },
  {
   "cell_type": "code",
   "execution_count": 1334,
   "id": "4d51fb52",
   "metadata": {},
   "outputs": [
    {
     "data": {
      "text/html": [
       "<div>\n",
       "<style scoped>\n",
       "    .dataframe tbody tr th:only-of-type {\n",
       "        vertical-align: middle;\n",
       "    }\n",
       "\n",
       "    .dataframe tbody tr th {\n",
       "        vertical-align: top;\n",
       "    }\n",
       "\n",
       "    .dataframe thead th {\n",
       "        text-align: right;\n",
       "    }\n",
       "</style>\n",
       "<table border=\"1\" class=\"dataframe\">\n",
       "  <thead>\n",
       "    <tr style=\"text-align: right;\">\n",
       "      <th></th>\n",
       "      <th>make</th>\n",
       "      <th>model</th>\n",
       "      <th>year</th>\n",
       "      <th>engine_fuel_type</th>\n",
       "      <th>engine_hp</th>\n",
       "      <th>engine_cylinders</th>\n",
       "      <th>transmission_type</th>\n",
       "      <th>driven_wheels</th>\n",
       "      <th>number_of_doors</th>\n",
       "      <th>market_category</th>\n",
       "      <th>vehicle_size</th>\n",
       "      <th>vehicle_style</th>\n",
       "      <th>highway_mpg</th>\n",
       "      <th>city_mpg</th>\n",
       "      <th>popularity</th>\n",
       "    </tr>\n",
       "  </thead>\n",
       "  <tbody>\n",
       "    <tr>\n",
       "      <th>0</th>\n",
       "      <td>chevrolet</td>\n",
       "      <td>colorado</td>\n",
       "      <td>2015</td>\n",
       "      <td>regular_unleaded</td>\n",
       "      <td>200.0</td>\n",
       "      <td>4.0</td>\n",
       "      <td>automatic</td>\n",
       "      <td>four_wheel_drive</td>\n",
       "      <td>4.0</td>\n",
       "      <td>NaN</td>\n",
       "      <td>compact</td>\n",
       "      <td>extended_cab_pickup</td>\n",
       "      <td>25</td>\n",
       "      <td>19</td>\n",
       "      <td>1385</td>\n",
       "    </tr>\n",
       "    <tr>\n",
       "      <th>1</th>\n",
       "      <td>mercedes-benz</td>\n",
       "      <td>e-class</td>\n",
       "      <td>2017</td>\n",
       "      <td>premium_unleaded_(required)</td>\n",
       "      <td>241.0</td>\n",
       "      <td>4.0</td>\n",
       "      <td>automatic</td>\n",
       "      <td>all_wheel_drive</td>\n",
       "      <td>4.0</td>\n",
       "      <td>luxury</td>\n",
       "      <td>midsize</td>\n",
       "      <td>sedan</td>\n",
       "      <td>29</td>\n",
       "      <td>22</td>\n",
       "      <td>617</td>\n",
       "    </tr>\n",
       "    <tr>\n",
       "      <th>2</th>\n",
       "      <td>ford</td>\n",
       "      <td>focus</td>\n",
       "      <td>2017</td>\n",
       "      <td>flex-fuel_(unleaded/e85)</td>\n",
       "      <td>160.0</td>\n",
       "      <td>4.0</td>\n",
       "      <td>manual</td>\n",
       "      <td>front_wheel_drive</td>\n",
       "      <td>4.0</td>\n",
       "      <td>flex_fuel</td>\n",
       "      <td>compact</td>\n",
       "      <td>sedan</td>\n",
       "      <td>36</td>\n",
       "      <td>26</td>\n",
       "      <td>5657</td>\n",
       "    </tr>\n",
       "    <tr>\n",
       "      <th>3</th>\n",
       "      <td>acura</td>\n",
       "      <td>tlx</td>\n",
       "      <td>2016</td>\n",
       "      <td>premium_unleaded_(recommended)</td>\n",
       "      <td>290.0</td>\n",
       "      <td>6.0</td>\n",
       "      <td>automatic</td>\n",
       "      <td>front_wheel_drive</td>\n",
       "      <td>4.0</td>\n",
       "      <td>luxury</td>\n",
       "      <td>midsize</td>\n",
       "      <td>sedan</td>\n",
       "      <td>34</td>\n",
       "      <td>21</td>\n",
       "      <td>204</td>\n",
       "    </tr>\n",
       "    <tr>\n",
       "      <th>4</th>\n",
       "      <td>volkswagen</td>\n",
       "      <td>beetle_convertible</td>\n",
       "      <td>2016</td>\n",
       "      <td>regular_unleaded</td>\n",
       "      <td>170.0</td>\n",
       "      <td>4.0</td>\n",
       "      <td>automatic</td>\n",
       "      <td>front_wheel_drive</td>\n",
       "      <td>2.0</td>\n",
       "      <td>NaN</td>\n",
       "      <td>compact</td>\n",
       "      <td>convertible</td>\n",
       "      <td>34</td>\n",
       "      <td>25</td>\n",
       "      <td>873</td>\n",
       "    </tr>\n",
       "  </tbody>\n",
       "</table>\n",
       "</div>"
      ],
      "text/plain": [
       "            make               model  year                engine_fuel_type  \\\n",
       "0      chevrolet            colorado  2015                regular_unleaded   \n",
       "1  mercedes-benz             e-class  2017     premium_unleaded_(required)   \n",
       "2           ford               focus  2017        flex-fuel_(unleaded/e85)   \n",
       "3          acura                 tlx  2016  premium_unleaded_(recommended)   \n",
       "4     volkswagen  beetle_convertible  2016                regular_unleaded   \n",
       "\n",
       "   engine_hp  engine_cylinders transmission_type      driven_wheels  \\\n",
       "0      200.0               4.0         automatic   four_wheel_drive   \n",
       "1      241.0               4.0         automatic    all_wheel_drive   \n",
       "2      160.0               4.0            manual  front_wheel_drive   \n",
       "3      290.0               6.0         automatic  front_wheel_drive   \n",
       "4      170.0               4.0         automatic  front_wheel_drive   \n",
       "\n",
       "   number_of_doors market_category vehicle_size        vehicle_style  \\\n",
       "0              4.0             NaN      compact  extended_cab_pickup   \n",
       "1              4.0          luxury      midsize                sedan   \n",
       "2              4.0       flex_fuel      compact                sedan   \n",
       "3              4.0          luxury      midsize                sedan   \n",
       "4              2.0             NaN      compact          convertible   \n",
       "\n",
       "   highway_mpg  city_mpg  popularity  \n",
       "0           25        19        1385  \n",
       "1           29        22         617  \n",
       "2           36        26        5657  \n",
       "3           34        21         204  \n",
       "4           34        25         873  "
      ]
     },
     "execution_count": 1334,
     "metadata": {},
     "output_type": "execute_result"
    }
   ],
   "source": [
    "if 'msrp' in df_val.columns: \n",
    "    del df_val['msrp']\n",
    "df_val.head()"
   ]
  },
  {
   "cell_type": "code",
   "execution_count": 1335,
   "id": "b8193990",
   "metadata": {
    "scrolled": true
   },
   "outputs": [
    {
     "data": {
      "text/html": [
       "<div>\n",
       "<style scoped>\n",
       "    .dataframe tbody tr th:only-of-type {\n",
       "        vertical-align: middle;\n",
       "    }\n",
       "\n",
       "    .dataframe tbody tr th {\n",
       "        vertical-align: top;\n",
       "    }\n",
       "\n",
       "    .dataframe thead th {\n",
       "        text-align: right;\n",
       "    }\n",
       "</style>\n",
       "<table border=\"1\" class=\"dataframe\">\n",
       "  <thead>\n",
       "    <tr style=\"text-align: right;\">\n",
       "      <th></th>\n",
       "      <th>make</th>\n",
       "      <th>model</th>\n",
       "      <th>year</th>\n",
       "      <th>engine_fuel_type</th>\n",
       "      <th>engine_hp</th>\n",
       "      <th>engine_cylinders</th>\n",
       "      <th>transmission_type</th>\n",
       "      <th>driven_wheels</th>\n",
       "      <th>number_of_doors</th>\n",
       "      <th>market_category</th>\n",
       "      <th>vehicle_size</th>\n",
       "      <th>vehicle_style</th>\n",
       "      <th>highway_mpg</th>\n",
       "      <th>city_mpg</th>\n",
       "      <th>popularity</th>\n",
       "    </tr>\n",
       "  </thead>\n",
       "  <tbody>\n",
       "    <tr>\n",
       "      <th>0</th>\n",
       "      <td>gmc</td>\n",
       "      <td>vandura</td>\n",
       "      <td>1994</td>\n",
       "      <td>regular_unleaded</td>\n",
       "      <td>165.0</td>\n",
       "      <td>6.0</td>\n",
       "      <td>automatic</td>\n",
       "      <td>rear_wheel_drive</td>\n",
       "      <td>3.0</td>\n",
       "      <td>NaN</td>\n",
       "      <td>compact</td>\n",
       "      <td>cargo_van</td>\n",
       "      <td>20</td>\n",
       "      <td>15</td>\n",
       "      <td>549</td>\n",
       "    </tr>\n",
       "    <tr>\n",
       "      <th>1</th>\n",
       "      <td>mercedes-benz</td>\n",
       "      <td>600-class</td>\n",
       "      <td>1993</td>\n",
       "      <td>regular_unleaded</td>\n",
       "      <td>389.0</td>\n",
       "      <td>12.0</td>\n",
       "      <td>automatic</td>\n",
       "      <td>rear_wheel_drive</td>\n",
       "      <td>2.0</td>\n",
       "      <td>luxury</td>\n",
       "      <td>large</td>\n",
       "      <td>coupe</td>\n",
       "      <td>15</td>\n",
       "      <td>11</td>\n",
       "      <td>617</td>\n",
       "    </tr>\n",
       "    <tr>\n",
       "      <th>2</th>\n",
       "      <td>toyota</td>\n",
       "      <td>venza</td>\n",
       "      <td>2013</td>\n",
       "      <td>regular_unleaded</td>\n",
       "      <td>268.0</td>\n",
       "      <td>6.0</td>\n",
       "      <td>automatic</td>\n",
       "      <td>all_wheel_drive</td>\n",
       "      <td>4.0</td>\n",
       "      <td>crossover,performance</td>\n",
       "      <td>midsize</td>\n",
       "      <td>wagon</td>\n",
       "      <td>25</td>\n",
       "      <td>18</td>\n",
       "      <td>2031</td>\n",
       "    </tr>\n",
       "    <tr>\n",
       "      <th>3</th>\n",
       "      <td>volvo</td>\n",
       "      <td>740</td>\n",
       "      <td>1992</td>\n",
       "      <td>regular_unleaded</td>\n",
       "      <td>114.0</td>\n",
       "      <td>4.0</td>\n",
       "      <td>automatic</td>\n",
       "      <td>rear_wheel_drive</td>\n",
       "      <td>4.0</td>\n",
       "      <td>luxury</td>\n",
       "      <td>midsize</td>\n",
       "      <td>sedan</td>\n",
       "      <td>26</td>\n",
       "      <td>18</td>\n",
       "      <td>870</td>\n",
       "    </tr>\n",
       "    <tr>\n",
       "      <th>4</th>\n",
       "      <td>ford</td>\n",
       "      <td>crown_victoria</td>\n",
       "      <td>2010</td>\n",
       "      <td>flex-fuel_(unleaded/e85)</td>\n",
       "      <td>224.0</td>\n",
       "      <td>8.0</td>\n",
       "      <td>automatic</td>\n",
       "      <td>rear_wheel_drive</td>\n",
       "      <td>4.0</td>\n",
       "      <td>flex_fuel</td>\n",
       "      <td>large</td>\n",
       "      <td>sedan</td>\n",
       "      <td>24</td>\n",
       "      <td>16</td>\n",
       "      <td>5657</td>\n",
       "    </tr>\n",
       "  </tbody>\n",
       "</table>\n",
       "</div>"
      ],
      "text/plain": [
       "            make           model  year          engine_fuel_type  engine_hp  \\\n",
       "0            gmc         vandura  1994          regular_unleaded      165.0   \n",
       "1  mercedes-benz       600-class  1993          regular_unleaded      389.0   \n",
       "2         toyota           venza  2013          regular_unleaded      268.0   \n",
       "3          volvo             740  1992          regular_unleaded      114.0   \n",
       "4           ford  crown_victoria  2010  flex-fuel_(unleaded/e85)      224.0   \n",
       "\n",
       "   engine_cylinders transmission_type     driven_wheels  number_of_doors  \\\n",
       "0               6.0         automatic  rear_wheel_drive              3.0   \n",
       "1              12.0         automatic  rear_wheel_drive              2.0   \n",
       "2               6.0         automatic   all_wheel_drive              4.0   \n",
       "3               4.0         automatic  rear_wheel_drive              4.0   \n",
       "4               8.0         automatic  rear_wheel_drive              4.0   \n",
       "\n",
       "         market_category vehicle_size vehicle_style  highway_mpg  city_mpg  \\\n",
       "0                    NaN      compact     cargo_van           20        15   \n",
       "1                 luxury        large         coupe           15        11   \n",
       "2  crossover,performance      midsize         wagon           25        18   \n",
       "3                 luxury      midsize         sedan           26        18   \n",
       "4              flex_fuel        large         sedan           24        16   \n",
       "\n",
       "   popularity  \n",
       "0         549  \n",
       "1         617  \n",
       "2        2031  \n",
       "3         870  \n",
       "4        5657  "
      ]
     },
     "execution_count": 1335,
     "metadata": {},
     "output_type": "execute_result"
    }
   ],
   "source": [
    "if 'msrp' in df_test.columns: \n",
    "    del df_test['msrp']\n",
    "df_test.head()"
   ]
  },
  {
   "cell_type": "markdown",
   "id": "b3b35b3b",
   "metadata": {},
   "source": [
    "## Simple Linear Regression"
   ]
  },
  {
   "cell_type": "markdown",
   "id": "18a4ba66",
   "metadata": {},
   "source": [
    "### Using car 10 with 3 features"
   ]
  },
  {
   "cell_type": "code",
   "execution_count": 1336,
   "id": "4dcd2f14",
   "metadata": {},
   "outputs": [
    {
     "data": {
      "text/plain": [
       "make                                 rolls-royce\n",
       "model                     phantom_drophead_coupe\n",
       "year                                        2015\n",
       "engine_fuel_type     premium_unleaded_(required)\n",
       "engine_hp                                  453.0\n",
       "engine_cylinders                            12.0\n",
       "transmission_type                      automatic\n",
       "driven_wheels                   rear_wheel_drive\n",
       "number_of_doors                              2.0\n",
       "market_category        exotic,luxury,performance\n",
       "vehicle_size                               large\n",
       "vehicle_style                        convertible\n",
       "highway_mpg                                   19\n",
       "city_mpg                                      11\n",
       "popularity                                    86\n",
       "Name: 10, dtype: object"
      ]
     },
     "execution_count": 1336,
     "metadata": {},
     "output_type": "execute_result"
    }
   ],
   "source": [
    "df_train.iloc[10]"
   ]
  },
  {
   "cell_type": "code",
   "execution_count": 1337,
   "id": "df916176",
   "metadata": {},
   "outputs": [
    {
     "data": {
      "text/plain": [
       "13.08107460729463"
      ]
     },
     "execution_count": 1337,
     "metadata": {},
     "output_type": "execute_result"
    }
   ],
   "source": [
    "y_train[10]"
   ]
  },
  {
   "cell_type": "code",
   "execution_count": 1338,
   "id": "c74f8e51",
   "metadata": {},
   "outputs": [
    {
     "data": {
      "text/plain": [
       "([453.0, 11, 86], 13.08107460729463)"
      ]
     },
     "execution_count": 1338,
     "metadata": {},
     "output_type": "execute_result"
    }
   ],
   "source": [
    "w0 = 7.17 #bias, a value for when we don't have any info about the car\n",
    "w = [0.01, 0.04, 0.002] # weights for each features. popularity has the least contribution\n",
    "x10 = list(df_train.iloc[10][['engine_hp', 'city_mpg', 'popularity']].values)\n",
    "y10 = y_train[10]\n",
    "\n",
    "x10, y10"
   ]
  },
  {
   "cell_type": "code",
   "execution_count": 1339,
   "id": "ce911283",
   "metadata": {},
   "outputs": [],
   "source": [
    "def linear_regression(xi):\n",
    "    pred = w0\n",
    "    for j in range(len(xi)):\n",
    "        pred += w[j] * xi[j]\n",
    "    return pred"
   ]
  },
  {
   "cell_type": "code",
   "execution_count": 1340,
   "id": "0a401062",
   "metadata": {},
   "outputs": [
    {
     "data": {
      "text/plain": [
       "12.312"
      ]
     },
     "execution_count": 1340,
     "metadata": {},
     "output_type": "execute_result"
    }
   ],
   "source": [
    "pred_x10 = linear_regression(x10)\n",
    "pred_x10"
   ]
  },
  {
   "cell_type": "code",
   "execution_count": 1341,
   "id": "8493f4e2",
   "metadata": {},
   "outputs": [
    {
     "data": {
      "text/plain": [
       "222347.2221101062"
      ]
     },
     "execution_count": 1341,
     "metadata": {},
     "output_type": "execute_result"
    }
   ],
   "source": [
    "np.expm1(pred_x10)"
   ]
  },
  {
   "cell_type": "markdown",
   "id": "eb37c7f0",
   "metadata": {},
   "source": [
    "## Simple Linear Regression Vector Form"
   ]
  },
  {
   "cell_type": "code",
   "execution_count": 1342,
   "id": "8cba88ab",
   "metadata": {},
   "outputs": [],
   "source": [
    "#IMPLEMENT DOT PRODUCT\n",
    "def dot(xi, w):\n",
    "    res = 0.0\n",
    "    for j in range(len(xi)):\n",
    "        res += w[j] * xi[j]\n",
    "    return res"
   ]
  },
  {
   "cell_type": "code",
   "execution_count": 1343,
   "id": "727f0254",
   "metadata": {},
   "outputs": [],
   "source": [
    "def linear_regression(xi):\n",
    "    return w0 + dot(xi, w)"
   ]
  },
  {
   "cell_type": "code",
   "execution_count": 1344,
   "id": "72c68c2b",
   "metadata": {},
   "outputs": [
    {
     "data": {
      "text/plain": [
       "12.312000000000001"
      ]
     },
     "execution_count": 1344,
     "metadata": {},
     "output_type": "execute_result"
    }
   ],
   "source": [
    "linear_regression(x10)"
   ]
  },
  {
   "cell_type": "markdown",
   "id": "1b19a4e6",
   "metadata": {},
   "source": [
    "### we can simplify the formalu by including the bias in the list and prepending 1 to our weights"
   ]
  },
  {
   "cell_type": "code",
   "execution_count": 1345,
   "id": "f69d5bd3",
   "metadata": {},
   "outputs": [],
   "source": [
    "def linear_regression(xi):\n",
    "    return dot([1] + xi, [w0] + w)"
   ]
  },
  {
   "cell_type": "code",
   "execution_count": 1346,
   "id": "ecbaed13",
   "metadata": {},
   "outputs": [
    {
     "data": {
      "text/plain": [
       "12.312"
      ]
     },
     "execution_count": 1346,
     "metadata": {},
     "output_type": "execute_result"
    }
   ],
   "source": [
    "linear_regression(x10)"
   ]
  },
  {
   "cell_type": "markdown",
   "id": "7c273a35",
   "metadata": {},
   "source": [
    "### we can now update the function for multiple rows of weights"
   ]
  },
  {
   "cell_type": "code",
   "execution_count": 1347,
   "id": "05f40832",
   "metadata": {},
   "outputs": [],
   "source": [
    "def linear_regression(X):\n",
    "    return X.dot([w0] + w)"
   ]
  },
  {
   "cell_type": "code",
   "execution_count": 1348,
   "id": "b86c37bf",
   "metadata": {},
   "outputs": [
    {
     "data": {
      "text/plain": [
       "array([[1.000e+00, 4.530e+02, 1.100e+01, 8.600e+01],\n",
       "       [1.000e+00, 1.820e+02, 2.000e+01, 1.385e+03],\n",
       "       [1.000e+00, 1.620e+02, 2.000e+01, 4.360e+02],\n",
       "       [1.000e+00, 5.530e+02, 1.600e+01, 2.774e+03],\n",
       "       [1.000e+00, 2.720e+02, 1.800e+01, 3.105e+03]])"
      ]
     },
     "execution_count": 1348,
     "metadata": {},
     "output_type": "execute_result"
    }
   ],
   "source": [
    "X = df_train.iloc[10:15][['engine_hp', 'city_mpg', 'popularity']].values\n",
    "X = np.column_stack((np.ones(5),X))\n",
    "X"
   ]
  },
  {
   "cell_type": "code",
   "execution_count": 1349,
   "id": "0d161fea",
   "metadata": {},
   "outputs": [
    {
     "data": {
      "text/plain": [
       "array([12.312, 12.56 , 10.462, 18.888, 16.82 ])"
      ]
     },
     "execution_count": 1349,
     "metadata": {},
     "output_type": "execute_result"
    }
   ],
   "source": [
    "predictions = linear_regression(X)\n",
    "predictions"
   ]
  },
  {
   "cell_type": "code",
   "execution_count": 1350,
   "id": "0274974e",
   "metadata": {},
   "outputs": [
    {
     "data": {
      "text/plain": [
       "array([13.08107461, 10.42439221, 10.23995979, 12.20092944, 10.88183247])"
      ]
     },
     "execution_count": 1350,
     "metadata": {},
     "output_type": "execute_result"
    }
   ],
   "source": [
    "y_train[10:15]"
   ]
  },
  {
   "cell_type": "markdown",
   "id": "73988166",
   "metadata": {},
   "source": [
    "## Training a Linear Regression: find [w0] + w"
   ]
  },
  {
   "cell_type": "code",
   "execution_count": 1351,
   "id": "e5084ae2",
   "metadata": {},
   "outputs": [],
   "source": [
    "def train_linear_regression(X, y):\n",
    "    ones = np.ones(X.shape[0])\n",
    "    X = np.column_stack([ones, X])\n",
    "    \n",
    "    XTX = X.T.dot(X)\n",
    "    XTX_inv = np.linalg.inv(XTX)\n",
    "    w_full = (XTX_inv).dot(X.T).dot(y)\n",
    "    \n",
    "    return w_full[0], w_full[1:]"
   ]
  },
  {
   "cell_type": "code",
   "execution_count": 1352,
   "id": "23f30837",
   "metadata": {},
   "outputs": [
    {
     "data": {
      "text/plain": [
       "(13.954739684339728,\n",
       " array([ 3.05557355e-03, -2.05578865e-01, -5.48993909e-05]))"
      ]
     },
     "execution_count": 1352,
     "metadata": {},
     "output_type": "execute_result"
    }
   ],
   "source": [
    "X = df_train.iloc[10:15][['engine_hp', 'city_mpg', 'popularity']].values\n",
    "y = y_train[10:15]\n",
    "train_linear_regression(X, y)"
   ]
  },
  {
   "cell_type": "markdown",
   "id": "e3a4ecb1",
   "metadata": {},
   "source": [
    "## Applying the model to Car price data for a base model"
   ]
  },
  {
   "cell_type": "code",
   "execution_count": 1353,
   "id": "15476520",
   "metadata": {},
   "outputs": [
    {
     "name": "stdout",
     "output_type": "stream",
     "text": [
      "engine_hp           40\n",
      "engine_cylinders    14\n",
      "highway_mpg          0\n",
      "city_mpg             0\n",
      "popularity           0\n",
      "dtype: int64\n"
     ]
    }
   ],
   "source": [
    "base = ['engine_hp', 'engine_cylinders', 'highway_mpg', 'city_mpg', 'popularity']\n",
    "X = df_train[base]\n",
    "print(X.isnull().sum()) # if null exist remove it\n",
    "X_train = X.fillna(0).values\n"
   ]
  },
  {
   "cell_type": "code",
   "execution_count": 1354,
   "id": "7199dd8c",
   "metadata": {},
   "outputs": [
    {
     "data": {
      "text/plain": [
       "array([ 9.57574708,  9.887663  ,  9.89323518, ..., 10.45380308,\n",
       "       12.62248099, 10.54061978])"
      ]
     },
     "execution_count": 1354,
     "metadata": {},
     "output_type": "execute_result"
    }
   ],
   "source": [
    "y_train"
   ]
  },
  {
   "cell_type": "code",
   "execution_count": 1355,
   "id": "c574dde5",
   "metadata": {},
   "outputs": [],
   "source": [
    "w0, w = train_linear_regression(X_train, y_train)"
   ]
  },
  {
   "cell_type": "code",
   "execution_count": 1356,
   "id": "4e3e9223",
   "metadata": {},
   "outputs": [],
   "source": [
    "# get y_pred\n",
    "y_pred = w0 + X_train.dot(w)"
   ]
  },
  {
   "cell_type": "code",
   "execution_count": 1357,
   "id": "2ed1b679",
   "metadata": {
    "scrolled": true
   },
   "outputs": [
    {
     "data": {
      "text/plain": [
       "<AxesSubplot:ylabel='Count'>"
      ]
     },
     "execution_count": 1357,
     "metadata": {},
     "output_type": "execute_result"
    },
    {
     "data": {
      "image/png": "[encoded data removed]",
      "text/plain": [
       "<Figure size 640x480 with 1 Axes>"
      ]
     },
     "metadata": {},
     "output_type": "display_data"
    }
   ],
   "source": [
    "sns.histplot(y_pred, color=\"red\", alpha=0.5, bins=50)\n",
    "sns.histplot(y_train, color=\"blue\", alpha=0.5, bins=50)\n",
    "\n",
    "#prediction is always less than actual value, we need a way to measure model performance to trak improvement"
   ]
  },
  {
   "cell_type": "markdown",
   "id": "3a47216a",
   "metadata": {},
   "source": [
    "## Implementing RMSE to measure model performance"
   ]
  },
  {
   "cell_type": "code",
   "execution_count": 1358,
   "id": "3f0d9419",
   "metadata": {},
   "outputs": [],
   "source": [
    "def rmse(y_pred, y):\n",
    "    se = (y_pred - y) ** 2\n",
    "    return np.sqrt(np.mean(se))"
   ]
  },
  {
   "cell_type": "code",
   "execution_count": 1359,
   "id": "ac5b220c",
   "metadata": {},
   "outputs": [
    {
     "data": {
      "text/plain": [
       "0.7554192603920132"
      ]
     },
     "execution_count": 1359,
     "metadata": {},
     "output_type": "execute_result"
    }
   ],
   "source": [
    "rmse(y_pred, y_train)"
   ]
  },
  {
   "cell_type": "markdown",
   "id": "aa802657",
   "metadata": {},
   "source": [
    "## Model Validation"
   ]
  },
  {
   "cell_type": "code",
   "execution_count": 1360,
   "id": "301259ce",
   "metadata": {},
   "outputs": [],
   "source": [
    "def prepare_X(df):\n",
    "    df_num = df[base]\n",
    "    df_num = df_num.fillna(0)\n",
    "    X = df_num.values \n",
    "    return X"
   ]
  },
  {
   "cell_type": "code",
   "execution_count": 1361,
   "id": "8106d440",
   "metadata": {},
   "outputs": [
    {
     "data": {
      "text/plain": [
       "array([[ 148.,    4.,   33.,   24., 1385.],\n",
       "       [ 132.,    4.,   32.,   25., 2031.],\n",
       "       [ 148.,    4.,   37.,   28.,  640.],\n",
       "       ...,\n",
       "       [ 285.,    6.,   22.,   17.,  549.],\n",
       "       [ 563.,   12.,   21.,   13.,   86.],\n",
       "       [ 200.,    4.,   31.,   22.,  873.]])"
      ]
     },
     "execution_count": 1361,
     "metadata": {},
     "output_type": "execute_result"
    }
   ],
   "source": [
    "X_train = prepare_X(df_train)\n",
    "X_train"
   ]
  },
  {
   "cell_type": "code",
   "execution_count": 1362,
   "id": "82ceacb6",
   "metadata": {},
   "outputs": [
    {
     "data": {
      "text/plain": [
       "array([ 9.57574708,  9.887663  ,  9.89323518, ..., 10.45380308,\n",
       "       12.62248099, 10.54061978])"
      ]
     },
     "execution_count": 1362,
     "metadata": {},
     "output_type": "execute_result"
    }
   ],
   "source": [
    "y_train"
   ]
  },
  {
   "cell_type": "code",
   "execution_count": 1363,
   "id": "2e5b8e85",
   "metadata": {},
   "outputs": [],
   "source": [
    "w0, w = train_linear_regression(X_train, y_train)"
   ]
  },
  {
   "cell_type": "code",
   "execution_count": 1364,
   "id": "f04cae6e",
   "metadata": {},
   "outputs": [
    {
     "data": {
      "text/plain": [
       "array([ 9.86288014, 10.37013608,  9.69868129, ..., 10.4916625 ,\n",
       "        9.57091361, 10.40022147])"
      ]
     },
     "execution_count": 1364,
     "metadata": {},
     "output_type": "execute_result"
    }
   ],
   "source": [
    "# predict validation data set\n",
    "X_val = prepare_X(df_val)\n",
    "y_pred = w0 + X_val.dot(w)\n",
    "y_pred"
   ]
  },
  {
   "cell_type": "code",
   "execution_count": 1365,
   "id": "cd7e04b1",
   "metadata": {},
   "outputs": [
    {
     "data": {
      "text/plain": [
       "0.7616530991301601"
      ]
     },
     "execution_count": 1365,
     "metadata": {},
     "output_type": "execute_result"
    }
   ],
   "source": [
    "# rmse for validation dataset\n",
    "rmse(y_pred, y_val)"
   ]
  },
  {
   "cell_type": "markdown",
   "id": "a8b21107",
   "metadata": {},
   "source": [
    "## Simple Feature Engineering: Year -> Age"
   ]
  },
  {
   "cell_type": "code",
   "execution_count": 1366,
   "id": "1471cece",
   "metadata": {},
   "outputs": [],
   "source": [
    "def prepare_X(df):\n",
    "    df = df.copy()\n",
    "    df['age'] = 2017 - df.year\n",
    "    features = base + ['age']\n",
    "    df_num = df[features]\n",
    "    df_num = df_num.fillna(0)\n",
    "    X = df_num.values \n",
    "    return X"
   ]
  },
  {
   "cell_type": "code",
   "execution_count": 1367,
   "id": "2f3a1736",
   "metadata": {},
   "outputs": [
    {
     "data": {
      "text/plain": [
       "(9.286850605506004,\n",
       " array([ 3.87296543e-03,  7.24889532e-02, -2.59712372e-03,  1.10445120e-02,\n",
       "        -4.77015685e-05, -9.31651725e-02]))"
      ]
     },
     "execution_count": 1367,
     "metadata": {},
     "output_type": "execute_result"
    }
   ],
   "source": [
    "X_train = prepare_X(df_train)\n",
    "w0, w = train_linear_regression(X_train, y_train)\n",
    "w0, w"
   ]
  },
  {
   "cell_type": "code",
   "execution_count": 1368,
   "id": "4c50d1e1",
   "metadata": {},
   "outputs": [
    {
     "data": {
      "text/plain": [
       "array([10.24392012, 10.64842189, 10.12029397, ..., 10.86361511,\n",
       "       10.21280833, 10.71044038])"
      ]
     },
     "execution_count": 1368,
     "metadata": {},
     "output_type": "execute_result"
    }
   ],
   "source": [
    "# predict validation data set\n",
    "X_val = prepare_X(df_val)\n",
    "y_pred = w0 + X_val.dot(w)\n",
    "y_pred"
   ]
  },
  {
   "cell_type": "code",
   "execution_count": 1369,
   "id": "457bf194",
   "metadata": {},
   "outputs": [
    {
     "data": {
      "text/plain": [
       "0.5172055461058335"
      ]
     },
     "execution_count": 1369,
     "metadata": {},
     "output_type": "execute_result"
    }
   ],
   "source": [
    "rmse(y_pred, y_val)"
   ]
  },
  {
   "cell_type": "code",
   "execution_count": 1370,
   "id": "9457c695",
   "metadata": {
    "scrolled": true
   },
   "outputs": [
    {
     "data": {
      "text/plain": [
       "<AxesSubplot:ylabel='Count'>"
      ]
     },
     "execution_count": 1370,
     "metadata": {},
     "output_type": "execute_result"
    },
    {
     "data": {
      "image/png": "[encoded data removed]",
      "text/plain": [
       "<Figure size 640x480 with 1 Axes>"
      ]
     },
     "metadata": {},
     "output_type": "display_data"
    }
   ],
   "source": [
    "sns.histplot(y_pred, color=\"red\", alpha=0.5, bins=50)\n",
    "sns.histplot(y_val, color=\"blue\", alpha=0.5, bins=50)"
   ]
  },
  {
   "cell_type": "markdown",
   "id": "504ddc50",
   "metadata": {},
   "source": [
    "## Feature engineering: working with categorical variables number_of_doors feature"
   ]
  },
  {
   "cell_type": "code",
   "execution_count": 1371,
   "id": "842e7fb5",
   "metadata": {},
   "outputs": [],
   "source": [
    "def prepare_X(df):\n",
    "    df = df.copy()\n",
    "    df['age'] = 2017 - df.year\n",
    "    features = base + ['age']\n",
    "    for val in [2,3,4]:\n",
    "        df[\"num_of_doors_%s\" % val] = (df['number_of_doors'] == val).astype(int)\n",
    "        features.append(\"num_of_doors_%s\" % val)\n",
    "    df_num = df[features]\n",
    "    df_num = df_num.fillna(0)\n",
    "    X = df_num.values \n",
    "    return X"
   ]
  },
  {
   "cell_type": "code",
   "execution_count": 1372,
   "id": "8829c075",
   "metadata": {},
   "outputs": [
    {
     "data": {
      "text/plain": [
       "(10.659085118436746,\n",
       " array([ 3.71362023e-03,  7.55896758e-02, -3.94226970e-03,  1.05656089e-02,\n",
       "        -4.55063701e-05, -9.45102320e-02, -1.26327322e+00, -1.47267350e+00,\n",
       "        -1.30655848e+00]))"
      ]
     },
     "execution_count": 1372,
     "metadata": {},
     "output_type": "execute_result"
    }
   ],
   "source": [
    "X_train = prepare_X(df_train)\n",
    "w0, w = train_linear_regression(X_train, y_train)\n",
    "w0, w"
   ]
  },
  {
   "cell_type": "code",
   "execution_count": 1373,
   "id": "492b9a0d",
   "metadata": {},
   "outputs": [
    {
     "data": {
      "text/plain": [
       "array([10.24775243, 10.63990796, 10.12441917, ..., 10.85886266,\n",
       "       10.20968757, 10.70734736])"
      ]
     },
     "execution_count": 1373,
     "metadata": {},
     "output_type": "execute_result"
    }
   ],
   "source": [
    "# predict validation data set\n",
    "X_val = prepare_X(df_val)\n",
    "y_pred = w0 + X_val.dot(w)\n",
    "y_pred"
   ]
  },
  {
   "cell_type": "code",
   "execution_count": 1374,
   "id": "fd4bc99a",
   "metadata": {},
   "outputs": [
    {
     "data": {
      "text/plain": [
       "0.5157995641502353"
      ]
     },
     "execution_count": 1374,
     "metadata": {},
     "output_type": "execute_result"
    }
   ],
   "source": [
    "rmse(y_pred, y_val)"
   ]
  },
  {
   "cell_type": "code",
   "execution_count": 1375,
   "id": "bad4766e",
   "metadata": {
    "scrolled": true
   },
   "outputs": [
    {
     "data": {
      "text/plain": [
       "<AxesSubplot:ylabel='Count'>"
      ]
     },
     "execution_count": 1375,
     "metadata": {},
     "output_type": "execute_result"
    },
    {
     "data": {
      "image/png": "[encoded data removed]",
      "text/plain": [
       "<Figure size 640x480 with 1 Axes>"
      ]
     },
     "metadata": {},
     "output_type": "display_data"
    }
   ],
   "source": [
    "sns.histplot(y_pred, color=\"red\", alpha=0.5, bins=50)\n",
    "sns.histplot(y_val, color=\"blue\", alpha=0.5, bins=50)"
   ]
  },
  {
   "cell_type": "markdown",
   "id": "d8c30301",
   "metadata": {},
   "source": [
    "## Adding more categorical variables"
   ]
  },
  {
   "cell_type": "code",
   "execution_count": 1376,
   "id": "65647653",
   "metadata": {},
   "outputs": [
    {
     "data": {
      "text/plain": [
       "['make',\n",
       " 'engine_fuel_type',\n",
       " 'transmission_type',\n",
       " 'driven_wheels',\n",
       " 'market_category',\n",
       " 'vehicle_size',\n",
       " 'vehicle_style']"
      ]
     },
     "execution_count": 1376,
     "metadata": {},
     "output_type": "execute_result"
    }
   ],
   "source": [
    "#extract all categorical variables\n",
    "categorical_variables = list(df_train.dtypes[df_train.dtypes == 'object'].index)\n",
    "categorical_variables.remove('model')\n",
    "categorical_variables"
   ]
  },
  {
   "cell_type": "code",
   "execution_count": 1377,
   "id": "7445bd7e",
   "metadata": {
    "scrolled": true
   },
   "outputs": [
    {
     "data": {
      "text/plain": [
       "{'make': ['chevrolet', 'ford', 'volkswagen', 'toyota', 'dodge'],\n",
       " 'engine_fuel_type': ['regular_unleaded',\n",
       "  'premium_unleaded_(required)',\n",
       "  'premium_unleaded_(recommended)',\n",
       "  'flex-fuel_(unleaded/e85)',\n",
       "  'diesel'],\n",
       " 'transmission_type': ['automatic',\n",
       "  'manual',\n",
       "  'automated_manual',\n",
       "  'direct_drive',\n",
       "  'unknown'],\n",
       " 'driven_wheels': ['front_wheel_drive',\n",
       "  'rear_wheel_drive',\n",
       "  'all_wheel_drive',\n",
       "  'four_wheel_drive'],\n",
       " 'market_category': ['crossover',\n",
       "  'flex_fuel',\n",
       "  'luxury',\n",
       "  'luxury,performance',\n",
       "  'hatchback'],\n",
       " 'vehicle_size': ['compact', 'midsize', 'large'],\n",
       " 'vehicle_style': ['sedan',\n",
       "  '4dr_suv',\n",
       "  'coupe',\n",
       "  'convertible',\n",
       "  '4dr_hatchback']}"
      ]
     },
     "execution_count": 1377,
     "metadata": {},
     "output_type": "execute_result"
    }
   ],
   "source": [
    "# find the most popular values in each catgorical variables\n",
    "# selecting more than 9 most popular cause linalg error due to singular matrix: LinAlgError: Singular matrix\n",
    "categories = {}\n",
    "\n",
    "for c in categorical_variables:\n",
    "    categories[c] = list(cars_df[c].value_counts().head().index)\n",
    "    \n",
    "categories"
   ]
  },
  {
   "cell_type": "code",
   "execution_count": 1378,
   "id": "ba5bedd9",
   "metadata": {},
   "outputs": [],
   "source": [
    "def prepare_X(df):\n",
    "    df = df.copy()\n",
    "    df['age'] = 2017 - df.year\n",
    "    features = base + ['age']\n",
    "    \n",
    "    for val in [2,3,4]:\n",
    "        df[\"num_of_doors_%s\" % val] = (df['number_of_doors'] == val).astype(int)\n",
    "        features.append(\"num_of_doors_%s\" % val)\n",
    "    \n",
    "    for c, values in categories.items():\n",
    "        for val in values:\n",
    "            df[\"%s_%s\" % (c, val)] = (df[c] == val).astype('int')\n",
    "            features.append(\"%s_%s\" % (c, val))\n",
    "            \n",
    "    df_num = df[features]\n",
    "    df_num = df_num.fillna(0)\n",
    "    X = df_num.values \n",
    "    return X"
   ]
  },
  {
   "cell_type": "code",
   "execution_count": 1379,
   "id": "452674d7",
   "metadata": {},
   "outputs": [
    {
     "data": {
      "text/plain": [
       "(1.0988239383087292e+16,\n",
       " array([ 2.57718953e-01, -1.19934338e+01,  3.82516348e-01,  3.02111785e+00,\n",
       "        -1.53845377e-03,  1.21209125e+00,  1.91949857e+03,  1.93164538e+03,\n",
       "         1.90555760e+03, -3.69174147e+00,  8.68736088e-01,  7.64802567e+00,\n",
       "        -8.43561473e+00,  2.31619373e+00,  1.31628092e+02,  1.15952480e+02,\n",
       "         1.21941647e+02,  1.29232893e+02,  1.15296794e+02, -8.45903444e+15,\n",
       "        -8.45903444e+15, -8.45903444e+15, -8.45903444e+15, -8.45903444e+15,\n",
       "        -2.52920494e+15, -2.52920494e+15, -2.52920494e+15, -2.52920494e+15,\n",
       "         3.10643155e+00,  4.16776654e+00, -4.10798492e-01, -4.66244197e+00,\n",
       "        -1.26472134e+01,  8.38852061e+00,  1.18362609e+01,  1.63091399e+01,\n",
       "        -4.85492239e-02,  5.44797374e-02,  1.78241160e-01,  3.41906701e-01,\n",
       "        -1.64412078e-01]))"
      ]
     },
     "execution_count": 1379,
     "metadata": {},
     "output_type": "execute_result"
    }
   ],
   "source": [
    "X_train = prepare_X(df_train)\n",
    "w0, w = train_linear_regression(X_train, y_train)\n",
    "w0, w"
   ]
  },
  {
   "cell_type": "code",
   "execution_count": 1380,
   "id": "6d5768c9",
   "metadata": {},
   "outputs": [
    {
     "data": {
      "text/plain": [
       "array([36., 50., 24., ..., 24., 20., 24.])"
      ]
     },
     "execution_count": 1380,
     "metadata": {},
     "output_type": "execute_result"
    }
   ],
   "source": [
    "# predict validation data set\n",
    "X_val = prepare_X(df_val)\n",
    "y_pred = w0 + X_val.dot(w)\n",
    "y_pred"
   ]
  },
  {
   "cell_type": "code",
   "execution_count": 1381,
   "id": "67483cfe",
   "metadata": {},
   "outputs": [
    {
     "data": {
      "text/plain": [
       "29.712942828139816"
      ]
     },
     "execution_count": 1381,
     "metadata": {},
     "output_type": "execute_result"
    }
   ],
   "source": [
    "rmse(y_pred, y_val)"
   ]
  },
  {
   "cell_type": "code",
   "execution_count": 1382,
   "id": "b0153789",
   "metadata": {},
   "outputs": [
    {
     "data": {
      "text/plain": [
       "<AxesSubplot:ylabel='Count'>"
      ]
     },
     "execution_count": 1382,
     "metadata": {},
     "output_type": "execute_result"
    },
    {
     "data": {
      "image/png": "[encoded data removed]",
      "text/plain": [
       "<Figure size 640x480 with 1 Axes>"
      ]
     },
     "metadata": {},
     "output_type": "display_data"
    }
   ],
   "source": [
    "sns.histplot(y_pred, color=\"red\", alpha=0.5, bins=50)\n",
    "sns.histplot(y_val, color=\"blue\", alpha=0.5, bins=50)"
   ]
  },
  {
   "cell_type": "markdown",
   "id": "9155de9a",
   "metadata": {},
   "source": [
    "## Regularization: controlling the weights"
   ]
  },
  {
   "cell_type": "code",
   "execution_count": 1383,
   "id": "177d6a78",
   "metadata": {},
   "outputs": [],
   "source": [
    "def train_linear_regression(X, y, r=0.001):\n",
    "    ones = np.ones(X.shape[0])\n",
    "    X = np.column_stack([ones, X])\n",
    "    \n",
    "    XTX = X.T.dot(X)\n",
    "    XTX = XTX + r * np.eye(XTX.shape[0])\n",
    "    XTX_inv = np.linalg.inv(XTX)\n",
    "    w_full = (XTX_inv).dot(X.T).dot(y)\n",
    "    \n",
    "    return w_full[0], w_full[1:]"
   ]
  },
  {
   "cell_type": "code",
   "execution_count": 1384,
   "id": "364c412e",
   "metadata": {},
   "outputs": [
    {
     "data": {
      "text/plain": [
       "(6.28552228338358,\n",
       " array([ 1.74600249e-03,  1.10332142e-01, -5.11237449e-03, -5.92343267e-03,\n",
       "        -5.03741010e-05, -9.62098425e-02, -7.88729126e-01, -8.93190469e-01,\n",
       "        -6.20240807e-01, -4.23875982e-02,  1.77110977e-01,  1.38410049e-02,\n",
       "        -9.97730668e-02, -1.07727258e-01, -4.61074097e-01,  6.91522026e-02,\n",
       "        -3.27257190e-01, -5.40102830e-01, -9.20164632e-02,  1.09408181e+00,\n",
       "         9.24541182e-01,  1.15485879e+00,  2.62173895e+00,  4.90965693e-01,\n",
       "         1.60746586e+00,  1.53729700e+00,  1.60044307e+00,  1.54046186e+00,\n",
       "        -8.49915450e-02,  4.57085001e-02, -4.80505494e-02, -3.56645197e-02,\n",
       "         8.59610931e-03,  2.18059690e+00,  2.06544345e+00,  2.03959876e+00,\n",
       "        -4.85503714e-02,  5.44848713e-02,  1.78239216e-01,  3.41908082e-01,\n",
       "        -1.64425789e-01]))"
      ]
     },
     "execution_count": 1384,
     "metadata": {},
     "output_type": "execute_result"
    }
   ],
   "source": [
    "X_train = prepare_X(df_train)\n",
    "w0, w = train_linear_regression(X_train, y_train)\n",
    "w0, w"
   ]
  },
  {
   "cell_type": "code",
   "execution_count": 1385,
   "id": "11be7536",
   "metadata": {},
   "outputs": [
    {
     "data": {
      "text/plain": [
       "array([10.26494702, 10.95026105, 10.10971964, ..., 10.68929961,\n",
       "       10.13384182, 10.5955311 ])"
      ]
     },
     "execution_count": 1385,
     "metadata": {},
     "output_type": "execute_result"
    }
   ],
   "source": [
    "# predict validation data set\n",
    "X_val = prepare_X(df_val)\n",
    "y_pred = w0 + X_val.dot(w)\n",
    "y_pred"
   ]
  },
  {
   "cell_type": "code",
   "execution_count": 1386,
   "id": "520c162c",
   "metadata": {},
   "outputs": [
    {
     "data": {
      "text/plain": [
       "0.45651750869782065"
      ]
     },
     "execution_count": 1386,
     "metadata": {},
     "output_type": "execute_result"
    }
   ],
   "source": [
    "rmse(y_pred, y_val)"
   ]
  },
  {
   "cell_type": "code",
   "execution_count": 1387,
   "id": "d5941c87",
   "metadata": {},
   "outputs": [
    {
     "data": {
      "text/plain": [
       "<AxesSubplot:ylabel='Count'>"
      ]
     },
     "execution_count": 1387,
     "metadata": {},
     "output_type": "execute_result"
    },
    {
     "data": {
      "image/png": "[encoded data removed]",
      "text/plain": [
       "<Figure size 640x480 with 1 Axes>"
      ]
     },
     "metadata": {},
     "output_type": "display_data"
    }
   ],
   "source": [
    "sns.histplot(y_pred, color=\"red\", alpha=0.5, bins=50)\n",
    "sns.histplot(y_val, color=\"blue\", alpha=0.5, bins=50)"
   ]
  },
  {
   "cell_type": "markdown",
   "id": "58d8ccc9",
   "metadata": {},
   "source": [
    "## Model Tunning: finding the best parameter for regularization"
   ]
  },
  {
   "cell_type": "code",
   "execution_count": 1388,
   "id": "bbf3658c",
   "metadata": {},
   "outputs": [],
   "source": [
    "r_list = [0, 0.1, 0.01, 0.001, 0.0001, 0.00001, 1, 10, 100]"
   ]
  },
  {
   "cell_type": "code",
   "execution_count": 1389,
   "id": "34cd996b",
   "metadata": {
    "scrolled": true
   },
   "outputs": [
    {
     "name": "stdout",
     "output_type": "stream",
     "text": [
      "R: 0\n",
      "w0: 1.0988239383087292e+16\n",
      "Score: 29.712942828139816\n",
      "\n",
      "\n",
      "R: 0.1\n",
      "w0: 6.191208657249507\n",
      "Score: 0.4565692763042894\n",
      "\n",
      "\n",
      "R: 0.01\n",
      "w0: 6.276604368943194\n",
      "Score: 0.45652199012671885\n",
      "\n",
      "\n",
      "R: 0.001\n",
      "w0: 6.28552228338358\n",
      "Score: 0.45651750869782065\n",
      "\n",
      "\n",
      "R: 0.0001\n",
      "w0: 6.3309463738171665\n",
      "Score: 0.45651706293909966\n",
      "\n",
      "\n",
      "R: 1e-05\n",
      "w0: 9.263833364555508\n",
      "Score: 0.4565170151153065\n",
      "\n",
      "\n",
      "R: 1\n",
      "w0: 5.634896667949306\n",
      "Score: 0.45722043179967\n",
      "\n",
      "\n",
      "R: 10\n",
      "w0: 4.283980108969971\n",
      "Score: 0.47014569320991545\n",
      "\n",
      "\n",
      "R: 100\n",
      "w0: 2.4990470830021456\n",
      "Score: 0.5786709462476657\n",
      "\n",
      "\n"
     ]
    }
   ],
   "source": [
    "# r= 0.001 is good\n",
    "for r in r_list:\n",
    "    X_train = prepare_X(df_train)\n",
    "    w0, w = train_linear_regression(X_train, y_train, r)\n",
    "    X_val = prepare_X(df_val)\n",
    "    y_pred = w0 + X_val.dot(w)\n",
    "    score  = rmse(y_pred, y_val)\n",
    "    print(\"R: {}\\nw0: {}\\nScore: {}\\n\\n\".format(r, w0, score))"
   ]
  },
  {
   "cell_type": "markdown",
   "id": "7b0b02ec",
   "metadata": {},
   "source": [
    "## Building the model with train and val dataset and r = 0.001"
   ]
  },
  {
   "cell_type": "code",
   "execution_count": 1390,
   "id": "de98737f",
   "metadata": {},
   "outputs": [
    {
     "data": {
      "text/html": [
       "<div>\n",
       "<style scoped>\n",
       "    .dataframe tbody tr th:only-of-type {\n",
       "        vertical-align: middle;\n",
       "    }\n",
       "\n",
       "    .dataframe tbody tr th {\n",
       "        vertical-align: top;\n",
       "    }\n",
       "\n",
       "    .dataframe thead th {\n",
       "        text-align: right;\n",
       "    }\n",
       "</style>\n",
       "<table border=\"1\" class=\"dataframe\">\n",
       "  <thead>\n",
       "    <tr style=\"text-align: right;\">\n",
       "      <th></th>\n",
       "      <th>make</th>\n",
       "      <th>model</th>\n",
       "      <th>year</th>\n",
       "      <th>engine_fuel_type</th>\n",
       "      <th>engine_hp</th>\n",
       "      <th>engine_cylinders</th>\n",
       "      <th>transmission_type</th>\n",
       "      <th>driven_wheels</th>\n",
       "      <th>number_of_doors</th>\n",
       "      <th>market_category</th>\n",
       "      <th>vehicle_size</th>\n",
       "      <th>vehicle_style</th>\n",
       "      <th>highway_mpg</th>\n",
       "      <th>city_mpg</th>\n",
       "      <th>popularity</th>\n",
       "    </tr>\n",
       "  </thead>\n",
       "  <tbody>\n",
       "    <tr>\n",
       "      <th>0</th>\n",
       "      <td>chevrolet</td>\n",
       "      <td>cobalt</td>\n",
       "      <td>2008</td>\n",
       "      <td>regular_unleaded</td>\n",
       "      <td>148.0</td>\n",
       "      <td>4.0</td>\n",
       "      <td>manual</td>\n",
       "      <td>front_wheel_drive</td>\n",
       "      <td>2.0</td>\n",
       "      <td>NaN</td>\n",
       "      <td>compact</td>\n",
       "      <td>coupe</td>\n",
       "      <td>33</td>\n",
       "      <td>24</td>\n",
       "      <td>1385</td>\n",
       "    </tr>\n",
       "    <tr>\n",
       "      <th>1</th>\n",
       "      <td>toyota</td>\n",
       "      <td>matrix</td>\n",
       "      <td>2012</td>\n",
       "      <td>regular_unleaded</td>\n",
       "      <td>132.0</td>\n",
       "      <td>4.0</td>\n",
       "      <td>automatic</td>\n",
       "      <td>front_wheel_drive</td>\n",
       "      <td>4.0</td>\n",
       "      <td>hatchback</td>\n",
       "      <td>compact</td>\n",
       "      <td>4dr_hatchback</td>\n",
       "      <td>32</td>\n",
       "      <td>25</td>\n",
       "      <td>2031</td>\n",
       "    </tr>\n",
       "    <tr>\n",
       "      <th>2</th>\n",
       "      <td>subaru</td>\n",
       "      <td>impreza</td>\n",
       "      <td>2016</td>\n",
       "      <td>regular_unleaded</td>\n",
       "      <td>148.0</td>\n",
       "      <td>4.0</td>\n",
       "      <td>automatic</td>\n",
       "      <td>all_wheel_drive</td>\n",
       "      <td>4.0</td>\n",
       "      <td>hatchback</td>\n",
       "      <td>compact</td>\n",
       "      <td>4dr_hatchback</td>\n",
       "      <td>37</td>\n",
       "      <td>28</td>\n",
       "      <td>640</td>\n",
       "    </tr>\n",
       "    <tr>\n",
       "      <th>3</th>\n",
       "      <td>volkswagen</td>\n",
       "      <td>vanagon</td>\n",
       "      <td>1991</td>\n",
       "      <td>regular_unleaded</td>\n",
       "      <td>90.0</td>\n",
       "      <td>4.0</td>\n",
       "      <td>manual</td>\n",
       "      <td>rear_wheel_drive</td>\n",
       "      <td>3.0</td>\n",
       "      <td>NaN</td>\n",
       "      <td>large</td>\n",
       "      <td>passenger_minivan</td>\n",
       "      <td>18</td>\n",
       "      <td>16</td>\n",
       "      <td>873</td>\n",
       "    </tr>\n",
       "    <tr>\n",
       "      <th>4</th>\n",
       "      <td>ford</td>\n",
       "      <td>f-150</td>\n",
       "      <td>2017</td>\n",
       "      <td>flex-fuel_(unleaded/e85)</td>\n",
       "      <td>385.0</td>\n",
       "      <td>8.0</td>\n",
       "      <td>automatic</td>\n",
       "      <td>four_wheel_drive</td>\n",
       "      <td>4.0</td>\n",
       "      <td>flex_fuel</td>\n",
       "      <td>large</td>\n",
       "      <td>crew_cab_pickup</td>\n",
       "      <td>21</td>\n",
       "      <td>15</td>\n",
       "      <td>5657</td>\n",
       "    </tr>\n",
       "    <tr>\n",
       "      <th>...</th>\n",
       "      <td>...</td>\n",
       "      <td>...</td>\n",
       "      <td>...</td>\n",
       "      <td>...</td>\n",
       "      <td>...</td>\n",
       "      <td>...</td>\n",
       "      <td>...</td>\n",
       "      <td>...</td>\n",
       "      <td>...</td>\n",
       "      <td>...</td>\n",
       "      <td>...</td>\n",
       "      <td>...</td>\n",
       "      <td>...</td>\n",
       "      <td>...</td>\n",
       "      <td>...</td>\n",
       "    </tr>\n",
       "    <tr>\n",
       "      <th>9527</th>\n",
       "      <td>volvo</td>\n",
       "      <td>v60</td>\n",
       "      <td>2015</td>\n",
       "      <td>regular_unleaded</td>\n",
       "      <td>240.0</td>\n",
       "      <td>4.0</td>\n",
       "      <td>automatic</td>\n",
       "      <td>front_wheel_drive</td>\n",
       "      <td>4.0</td>\n",
       "      <td>luxury</td>\n",
       "      <td>midsize</td>\n",
       "      <td>wagon</td>\n",
       "      <td>37</td>\n",
       "      <td>25</td>\n",
       "      <td>870</td>\n",
       "    </tr>\n",
       "    <tr>\n",
       "      <th>9528</th>\n",
       "      <td>maserati</td>\n",
       "      <td>granturismo_convertible</td>\n",
       "      <td>2015</td>\n",
       "      <td>premium_unleaded_(required)</td>\n",
       "      <td>444.0</td>\n",
       "      <td>8.0</td>\n",
       "      <td>automatic</td>\n",
       "      <td>rear_wheel_drive</td>\n",
       "      <td>2.0</td>\n",
       "      <td>exotic,luxury,high-performance</td>\n",
       "      <td>midsize</td>\n",
       "      <td>convertible</td>\n",
       "      <td>20</td>\n",
       "      <td>13</td>\n",
       "      <td>238</td>\n",
       "    </tr>\n",
       "    <tr>\n",
       "      <th>9529</th>\n",
       "      <td>cadillac</td>\n",
       "      <td>escalade_hybrid</td>\n",
       "      <td>2013</td>\n",
       "      <td>regular_unleaded</td>\n",
       "      <td>332.0</td>\n",
       "      <td>8.0</td>\n",
       "      <td>automatic</td>\n",
       "      <td>rear_wheel_drive</td>\n",
       "      <td>4.0</td>\n",
       "      <td>luxury,hybrid</td>\n",
       "      <td>large</td>\n",
       "      <td>4dr_suv</td>\n",
       "      <td>23</td>\n",
       "      <td>20</td>\n",
       "      <td>1624</td>\n",
       "    </tr>\n",
       "    <tr>\n",
       "      <th>9530</th>\n",
       "      <td>mitsubishi</td>\n",
       "      <td>lancer</td>\n",
       "      <td>2016</td>\n",
       "      <td>regular_unleaded</td>\n",
       "      <td>148.0</td>\n",
       "      <td>4.0</td>\n",
       "      <td>manual</td>\n",
       "      <td>front_wheel_drive</td>\n",
       "      <td>4.0</td>\n",
       "      <td>NaN</td>\n",
       "      <td>compact</td>\n",
       "      <td>sedan</td>\n",
       "      <td>34</td>\n",
       "      <td>24</td>\n",
       "      <td>436</td>\n",
       "    </tr>\n",
       "    <tr>\n",
       "      <th>9531</th>\n",
       "      <td>kia</td>\n",
       "      <td>sorento</td>\n",
       "      <td>2015</td>\n",
       "      <td>regular_unleaded</td>\n",
       "      <td>290.0</td>\n",
       "      <td>6.0</td>\n",
       "      <td>automatic</td>\n",
       "      <td>front_wheel_drive</td>\n",
       "      <td>4.0</td>\n",
       "      <td>crossover</td>\n",
       "      <td>midsize</td>\n",
       "      <td>4dr_suv</td>\n",
       "      <td>25</td>\n",
       "      <td>18</td>\n",
       "      <td>1720</td>\n",
       "    </tr>\n",
       "  </tbody>\n",
       "</table>\n",
       "<p>9532 rows × 15 columns</p>\n",
       "</div>"
      ],
      "text/plain": [
       "            make                    model  year             engine_fuel_type  \\\n",
       "0      chevrolet                   cobalt  2008             regular_unleaded   \n",
       "1         toyota                   matrix  2012             regular_unleaded   \n",
       "2         subaru                  impreza  2016             regular_unleaded   \n",
       "3     volkswagen                  vanagon  1991             regular_unleaded   \n",
       "4           ford                    f-150  2017     flex-fuel_(unleaded/e85)   \n",
       "...          ...                      ...   ...                          ...   \n",
       "9527       volvo                      v60  2015             regular_unleaded   \n",
       "9528    maserati  granturismo_convertible  2015  premium_unleaded_(required)   \n",
       "9529    cadillac          escalade_hybrid  2013             regular_unleaded   \n",
       "9530  mitsubishi                   lancer  2016             regular_unleaded   \n",
       "9531         kia                  sorento  2015             regular_unleaded   \n",
       "\n",
       "      engine_hp  engine_cylinders transmission_type      driven_wheels  \\\n",
       "0         148.0               4.0            manual  front_wheel_drive   \n",
       "1         132.0               4.0         automatic  front_wheel_drive   \n",
       "2         148.0               4.0         automatic    all_wheel_drive   \n",
       "3          90.0               4.0            manual   rear_wheel_drive   \n",
       "4         385.0               8.0         automatic   four_wheel_drive   \n",
       "...         ...               ...               ...                ...   \n",
       "9527      240.0               4.0         automatic  front_wheel_drive   \n",
       "9528      444.0               8.0         automatic   rear_wheel_drive   \n",
       "9529      332.0               8.0         automatic   rear_wheel_drive   \n",
       "9530      148.0               4.0            manual  front_wheel_drive   \n",
       "9531      290.0               6.0         automatic  front_wheel_drive   \n",
       "\n",
       "      number_of_doors                 market_category vehicle_size  \\\n",
       "0                 2.0                             NaN      compact   \n",
       "1                 4.0                       hatchback      compact   \n",
       "2                 4.0                       hatchback      compact   \n",
       "3                 3.0                             NaN        large   \n",
       "4                 4.0                       flex_fuel        large   \n",
       "...               ...                             ...          ...   \n",
       "9527              4.0                          luxury      midsize   \n",
       "9528              2.0  exotic,luxury,high-performance      midsize   \n",
       "9529              4.0                   luxury,hybrid        large   \n",
       "9530              4.0                             NaN      compact   \n",
       "9531              4.0                       crossover      midsize   \n",
       "\n",
       "          vehicle_style  highway_mpg  city_mpg  popularity  \n",
       "0                 coupe           33        24        1385  \n",
       "1         4dr_hatchback           32        25        2031  \n",
       "2         4dr_hatchback           37        28         640  \n",
       "3     passenger_minivan           18        16         873  \n",
       "4       crew_cab_pickup           21        15        5657  \n",
       "...                 ...          ...       ...         ...  \n",
       "9527              wagon           37        25         870  \n",
       "9528        convertible           20        13         238  \n",
       "9529            4dr_suv           23        20        1624  \n",
       "9530              sedan           34        24         436  \n",
       "9531            4dr_suv           25        18        1720  \n",
       "\n",
       "[9532 rows x 15 columns]"
      ]
     },
     "execution_count": 1390,
     "metadata": {},
     "output_type": "execute_result"
    }
   ],
   "source": [
    "df_full_train = pd.concat([df_train, df_val])\n",
    "df_full_train.reset_index(drop=True, inplace=True)\n",
    "df_full_train"
   ]
  },
  {
   "cell_type": "code",
   "execution_count": 1391,
   "id": "a079bf70",
   "metadata": {},
   "outputs": [
    {
     "data": {
      "text/plain": [
       "array([ 9.57574708,  9.887663  ,  9.89323518, ..., 11.21756062,\n",
       "        9.77542688, 10.1924563 ])"
      ]
     },
     "execution_count": 1391,
     "metadata": {},
     "output_type": "execute_result"
    }
   ],
   "source": [
    "y_full_train = np.concatenate([y_train, y_val])\n",
    "y_full_train"
   ]
  },
  {
   "cell_type": "code",
   "execution_count": 1392,
   "id": "0cafe98b",
   "metadata": {},
   "outputs": [
    {
     "data": {
      "text/plain": [
       "(6.321897140223779,\n",
       " array([ 1.52506334e-03,  1.18188694e-01, -6.66105724e-03, -5.33414117e-03,\n",
       "        -4.87603196e-05, -9.69091849e-02, -7.92623108e-01, -8.90864322e-01,\n",
       "        -6.35103033e-01, -4.14339218e-02,  1.75560737e-01, -5.78067084e-04,\n",
       "        -1.00563873e-01, -9.27549683e-02, -4.66859089e-01,  7.98659955e-02,\n",
       "        -3.16047638e-01, -5.51981604e-01, -7.89525255e-02,  1.09536726e+00,\n",
       "         9.20059720e-01,  1.14963711e+00,  2.65277321e+00,  5.09996290e-01,\n",
       "         1.62933899e+00,  1.53004304e+00,  1.61722175e+00,  1.54522114e+00,\n",
       "        -9.70559788e-02,  3.73062078e-02, -5.81767461e-02, -2.35940808e-02,\n",
       "        -1.19357029e-02,  2.18895262e+00,  2.07458271e+00,  2.05916687e+00,\n",
       "        -5.00802769e-02,  5.62184639e-02,  1.84794024e-01,  3.32646151e-01,\n",
       "        -1.58817038e-01]))"
      ]
     },
     "execution_count": 1392,
     "metadata": {},
     "output_type": "execute_result"
    }
   ],
   "source": [
    "X_full_train = prepare_X(df_full_train)\n",
    "w0, w = train_linear_regression(X_full_train, y_full_train, r=0.001)\n",
    "w0, w"
   ]
  },
  {
   "cell_type": "code",
   "execution_count": 1393,
   "id": "3f0ff4c0",
   "metadata": {},
   "outputs": [
    {
     "data": {
      "text/plain": [
       "0.4517749304358022"
      ]
     },
     "execution_count": 1393,
     "metadata": {},
     "output_type": "execute_result"
    }
   ],
   "source": [
    "#close rmse means the model is learning well\n",
    "X_test = prepare_X(df_test)\n",
    "y_pred = w0 + X_test.dot(w)\n",
    "rmse(y_pred, y_test)"
   ]
  },
  {
   "cell_type": "markdown",
   "id": "92baa539",
   "metadata": {},
   "source": [
    "## Using the Model"
   ]
  },
  {
   "cell_type": "code",
   "execution_count": 1394,
   "id": "d0570fb1",
   "metadata": {},
   "outputs": [
    {
     "data": {
      "text/plain": [
       "{'make': 'mazda',\n",
       " 'model': '3',\n",
       " 'year': 2016,\n",
       " 'engine_fuel_type': 'regular_unleaded',\n",
       " 'engine_hp': 155.0,\n",
       " 'engine_cylinders': 4.0,\n",
       " 'transmission_type': 'manual',\n",
       " 'driven_wheels': 'front_wheel_drive',\n",
       " 'number_of_doors': 4.0,\n",
       " 'market_category': nan,\n",
       " 'vehicle_size': 'compact',\n",
       " 'vehicle_style': 'sedan',\n",
       " 'highway_mpg': 41,\n",
       " 'city_mpg': 29,\n",
       " 'popularity': 586}"
      ]
     },
     "execution_count": 1394,
     "metadata": {},
     "output_type": "execute_result"
    }
   ],
   "source": [
    "sample_data = df_test.iloc[10].to_dict()\n",
    "sample_data"
   ]
  },
  {
   "cell_type": "code",
   "execution_count": 1395,
   "id": "3b711c90",
   "metadata": {},
   "outputs": [
    {
     "data": {
      "text/plain": [
       "array([[155.,   4.,  41.,  29., 586.,   1.,   0.,   0.,   1.,   0.,   0.,\n",
       "          0.,   0.,   0.,   1.,   0.,   0.,   0.,   0.,   0.,   1.,   0.,\n",
       "          0.,   0.,   1.,   0.,   0.,   0.,   0.,   0.,   0.,   0.,   0.,\n",
       "          1.,   0.,   0.,   1.,   0.,   0.,   0.,   0.]])"
      ]
     },
     "execution_count": 1395,
     "metadata": {},
     "output_type": "execute_result"
    }
   ],
   "source": [
    "X_sample = prepare_X(pd.DataFrame([sample_data]))\n",
    "X_sample"
   ]
  },
  {
   "cell_type": "code",
   "execution_count": 1396,
   "id": "37ed4d3a",
   "metadata": {},
   "outputs": [
    {
     "data": {
      "text/plain": [
       "(10.064069494308953, 23482.879694708747)"
      ]
     },
     "execution_count": 1396,
     "metadata": {},
     "output_type": "execute_result"
    }
   ],
   "source": [
    "y_pred = w0 + X_sample.dot(w)\n",
    "y_pred = y_pred[0]\n",
    "y_pred, np.expm1(y_pred)"
   ]
  },
  {
   "cell_type": "code",
   "execution_count": 1397,
   "id": "9042a941",
   "metadata": {},
   "outputs": [
    {
     "data": {
      "text/plain": [
       "(9.789534672460096, 17844.999999999993)"
      ]
     },
     "execution_count": 1397,
     "metadata": {},
     "output_type": "execute_result"
    }
   ],
   "source": [
    "y_test[10], np.expm1(y_test[10])"
   ]
  },
  {
   "cell_type": "code",
   "execution_count": 1398,
   "id": "d6d0ad83",
   "metadata": {},
   "outputs": [
    {
     "data": {
      "text/plain": [
       "(0.2745348218488566, 5637.879694708754)"
      ]
     },
     "execution_count": 1398,
     "metadata": {},
     "output_type": "execute_result"
    }
   ],
   "source": [
    "# difference from actual value\n",
    "y_pred - y_test[10], np.expm1(y_pred) - np.expm1(y_test[10])"
   ]
  }
 ],
 "metadata": {
  "kernelspec": {
   "display_name": "Python 3 (ipykernel)",
   "language": "python",
   "name": "python3"
  },
  "language_info": {
   "codemirror_mode": {
    "name": "ipython",
    "version": 3
   },
   "file_extension": ".py",
   "mimetype": "text/x-python",
   "name": "python",
   "nbconvert_exporter": "python",
   "pygments_lexer": "ipython3",
   "version": "3.9.13"
  }
 },
 "nbformat": 4,
 "nbformat_minor": 5
}
