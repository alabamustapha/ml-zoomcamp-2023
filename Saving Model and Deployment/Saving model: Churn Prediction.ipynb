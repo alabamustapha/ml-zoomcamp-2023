{
 "cells": [
  {
   "cell_type": "code",
   "execution_count": 1,
   "id": "28cab834",
   "metadata": {},
   "outputs": [],
   "source": [
    "import numpy as np\n",
    "import pandas as pd\n",
    "import os\n",
    "\n",
    "from sklearn.model_selection import KFold\n",
    "from sklearn.model_selection import train_test_split\n",
    "from sklearn.feature_extraction import DictVectorizer\n",
    "from sklearn.linear_model import LogisticRegression\n",
    "\n",
    "from sklearn.metrics import auc, roc_auc_score\n"
   ]
  },
  {
   "cell_type": "markdown",
   "id": "253f920a",
   "metadata": {},
   "source": [
    "## Download the Data"
   ]
  },
  {
   "cell_type": "code",
   "execution_count": 2,
   "id": "305cadbc",
   "metadata": {},
   "outputs": [],
   "source": [
    "if not os.path.isfile(\"telco-churn.csv\"):\n",
    "    !wget -O telco-churn.csv \"https://raw.githubusercontent.com/alexeygrigorev/mlbookcamp-code/master/chapter-03-churn-prediction/WA_Fn-UseC_-Telco-Customer-Churn.csv\""
   ]
  },
  {
   "cell_type": "code",
   "execution_count": 3,
   "id": "fed04214",
   "metadata": {
    "scrolled": false
   },
   "outputs": [],
   "source": [
    "df = pd.read_csv(\"telco-churn.csv\")\n",
    "df.columns = df.columns.str.lower().str.replace(' ', '_')\n",
    "categorical_columns = df.dtypes[df.dtypes == 'object'].index\n",
    "for c in categorical_columns:\n",
    "    df[c] = df[c].str.lower().str.replace(' ', '_')"
   ]
  },
  {
   "cell_type": "code",
   "execution_count": 4,
   "id": "ab758ea4",
   "metadata": {},
   "outputs": [],
   "source": [
    "df.totalcharges = pd.to_numeric(df['totalcharges'], errors='coerce') #change to number and set invalid to NaN\n",
    "df.totalcharges = df.totalcharges.fillna(0)"
   ]
  },
  {
   "cell_type": "code",
   "execution_count": 5,
   "id": "26ab6786",
   "metadata": {},
   "outputs": [
    {
     "data": {
      "text/plain": [
       "0    5174\n",
       "1    1869\n",
       "Name: churn, dtype: int64"
      ]
     },
     "execution_count": 5,
     "metadata": {},
     "output_type": "execute_result"
    }
   ],
   "source": [
    "df['churn'] = df.churn.map({'yes': 1, 'no': 0})\n",
    "df['churn'].value_counts()"
   ]
  },
  {
   "cell_type": "code",
   "execution_count": 6,
   "id": "abda05ff",
   "metadata": {},
   "outputs": [],
   "source": [
    "df_full_train, df_test = train_test_split(df, test_size=0.2, random_state=1)\n",
    "df_train, df_val = train_test_split(df_full_train, test_size=0.25, random_state=1)\n",
    "len(df_train), len(df_val), len(df_test)\n",
    "\n",
    "df_train = df_train.reset_index(drop=True)\n",
    "y_train = df_train.churn\n",
    "del df_train['churn']\n",
    "\n",
    "df_val = df_val.reset_index(drop=True)\n",
    "y_val = df_val.churn\n",
    "del df_val['churn']\n",
    "\n",
    "df_test = df_test.reset_index(drop=True)\n",
    "y_test = df_test.churn\n",
    "del df_test['churn']"
   ]
  },
  {
   "cell_type": "code",
   "execution_count": 7,
   "id": "6c438d0f",
   "metadata": {},
   "outputs": [],
   "source": [
    "numerical =  ['tenure', 'monthlycharges', 'totalcharges']\n",
    "categorical = ['gender', 'seniorcitizen', 'partner', 'dependents',\n",
    "        'phoneservice', 'multiplelines', 'internetservice',\n",
    "       'onlinesecurity', 'onlinebackup', 'deviceprotection', 'techsupport',\n",
    "       'streamingtv', 'streamingmovies', 'contract', 'paperlessbilling',\n",
    "       'paymentmethod']"
   ]
  },
  {
   "cell_type": "code",
   "execution_count": 8,
   "id": "cccef51c",
   "metadata": {},
   "outputs": [],
   "source": [
    "dv = DictVectorizer(sparse=False)\n",
    "\n",
    "train_dicts = df_train[categorical + numerical].to_dict(orient='records')\n",
    "val_dicts = df_val[categorical + numerical].to_dict(orient='records')\n",
    "\n",
    "X_train = dv.fit_transform(train_dicts)\n",
    "X_val = dv.transform(val_dicts)"
   ]
  },
  {
   "cell_type": "code",
   "execution_count": 9,
   "id": "3e2c7636",
   "metadata": {},
   "outputs": [],
   "source": [
    "model = LogisticRegression()\n",
    "model.fit(X_train, y_train)\n",
    "y_pred = model.predict_proba(X_val)[:, 1]\n",
    "churn_predictions = y_pred >= 0.5"
   ]
  },
  {
   "cell_type": "code",
   "execution_count": 10,
   "id": "074dd731",
   "metadata": {},
   "outputs": [
    {
     "data": {
      "text/plain": [
       "0.8572386167896259"
      ]
     },
     "execution_count": 10,
     "metadata": {},
     "output_type": "execute_result"
    }
   ],
   "source": [
    "C=1.0 \n",
    "train_dicts = df_full_train[categorical + numerical].to_dict(orient='records')\n",
    "dv = DictVectorizer(sparse=False)\n",
    "X_train = dv.fit_transform(train_dicts) \n",
    "y_train = df_full_train.churn\n",
    "test_dicts = df_test[categorical + numerical].to_dict(orient='records')\n",
    "X_test = dv.transform(test_dicts)\n",
    "\n",
    "\n",
    "\n",
    "model = LogisticRegression(C=C)\n",
    "model.fit(X_train, y_train)\n",
    "y_pred = model.predict_proba(X_test)[:, 1]\n",
    "\n",
    "auc = roc_auc_score(y_test, y_pred)\n",
    "auc"
   ]
  },
  {
   "cell_type": "markdown",
   "id": "c6b98e86",
   "metadata": {},
   "source": [
    "## Saving the model"
   ]
  },
  {
   "cell_type": "code",
   "execution_count": 11,
   "id": "959d3006",
   "metadata": {},
   "outputs": [],
   "source": [
    "import pickle"
   ]
  },
  {
   "cell_type": "code",
   "execution_count": 13,
   "id": "91ac1b6b",
   "metadata": {},
   "outputs": [
    {
     "data": {
      "text/plain": [
       "'model_C=1.0.bin'"
      ]
     },
     "execution_count": 13,
     "metadata": {},
     "output_type": "execute_result"
    }
   ],
   "source": [
    "\n",
    "file_name = f\"model_C={C}.bin\"\n",
    "file_name"
   ]
  },
  {
   "cell_type": "code",
   "execution_count": null,
   "id": "d784b649",
   "metadata": {},
   "outputs": [],
   "source": [
    "with open(file_name, 'wb') as f_out:\n",
    "    pickle.dump((dv, model), f_out)\n"
   ]
  },
  {
   "cell_type": "markdown",
   "id": "9d3df8d0",
   "metadata": {},
   "source": [
    "### Test model"
   ]
  },
  {
   "cell_type": "code",
   "execution_count": null,
   "id": "425ae54b",
   "metadata": {},
   "outputs": [],
   "source": [
    "customer = df_test.iloc[10]\n",
    "customer"
   ]
  },
  {
   "cell_type": "code",
   "execution_count": null,
   "id": "4661365c",
   "metadata": {},
   "outputs": [],
   "source": [
    "customer_dict = customer.to_dict()\n",
    "customer_dict\n"
   ]
  },
  {
   "cell_type": "code",
   "execution_count": null,
   "id": "10b91106",
   "metadata": {},
   "outputs": [],
   "source": [
    "x_custom = dv.transform(customer_dict)\n",
    "x_custom"
   ]
  },
  {
   "cell_type": "code",
   "execution_count": null,
   "id": "46189de6",
   "metadata": {},
   "outputs": [],
   "source": [
    "model.predict_proba(x_custom)[:, 1] >= 0.5"
   ]
  },
  {
   "cell_type": "code",
   "execution_count": null,
   "id": "fb765fe2",
   "metadata": {},
   "outputs": [],
   "source": [
    "y_test[10]"
   ]
  }
 ],
 "metadata": {
  "kernelspec": {
   "display_name": "Python 3 (ipykernel)",
   "language": "python",
   "name": "python3"
  },
  "language_info": {
   "codemirror_mode": {
    "name": "ipython",
    "version": 3
   },
   "file_extension": ".py",
   "mimetype": "text/x-python",
   "name": "python",
   "nbconvert_exporter": "python",
   "pygments_lexer": "ipython3",
   "version": "3.9.13"
  }
 },
 "nbformat": 4,
 "nbformat_minor": 5
}
